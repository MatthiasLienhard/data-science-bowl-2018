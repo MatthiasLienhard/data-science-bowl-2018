{
 "cells": [
  {
   "cell_type": "markdown",
   "metadata": {},
   "source": [
    "# General workflow\n",
    "This workflow is a starting point to demonstrate the functionality of the containers and to detect and classify difficult cases"
   ]
  },
  {
   "cell_type": "code",
   "execution_count": 1,
   "metadata": {},
   "outputs": [
    {
     "name": "stderr",
     "output_type": "stream",
     "text": [
      "/home/lienhard/.local/lib/python3.6/site-packages/h5py/__init__.py:36: FutureWarning: Conversion of the second argument of issubdtype from `float` to `np.floating` is deprecated. In future, it will be treated as `np.float64 == np.dtype(float).type`.\n",
      "  from ._conv import register_converters as _register_converters\n",
      "Using TensorFlow backend.\n"
     ]
    }
   ],
   "source": [
    "import numpy as np\n",
    "import pandas as pd\n",
    "import skimage\n",
    "import Images\n",
    "import ModelUNet_v2 #version 2 learns areas and boundaries of nuclei\n",
    "import matplotlib.pyplot as plt\n",
    "import tqdm\n",
    "import copy\n",
    "import scipy\n",
    "import plotly #plan to do interactive plots"
   ]
  },
  {
   "cell_type": "code",
   "execution_count": 2,
   "metadata": {},
   "outputs": [
    {
     "name": "stdout",
     "output_type": "stream",
     "text": [
      "the model will be called 'unet_256x256_xent_v2'\n"
     ]
    }
   ],
   "source": [
    "#some definitions\n",
    "debug=False #perform on a subset --> faster\n",
    "model_shape=(256,256,3) #works with shape (2^x, 2^x) only?\n",
    "model_name='unet_{}x{}_xent_v2'.format(model_shape[0],model_shape[1])\n",
    "if debug:\n",
    "    model_name += '_debug'\n",
    "\n",
    "print('the model will be called \\''+model_name+'\\'')\n"
   ]
  },
  {
   "cell_type": "markdown",
   "metadata": {},
   "source": [
    "## Training\n",
    "* load training data\n",
    "* train the model (if not yet done)\n",
    "* "
   ]
  },
  {
   "cell_type": "code",
   "execution_count": 12,
   "metadata": {},
   "outputs": [
    {
     "name": "stdout",
     "output_type": "stream",
     "text": [
      "Empty DataFrame\n",
      "Columns: []\n",
      "Index: [180]\n"
     ]
    },
    {
     "data": {
      "text/plain": [
       "<Figure size 1440x960 with 0 Axes>"
      ]
     },
     "metadata": {},
     "output_type": "display_data"
    }
   ],
   "source": [
    "train=Images.Images(\"../input/stage1_train\")\n",
    "if debug:\n",
    "    #subselect, to make it faster \n",
    "    train=train.subset(idx=range(20))\n",
    "    #todo: overload [] to get this\n",
    "\n",
    "#set aside 10% for validation\n",
    "val=train.subset(np.arange(train.n()*.9, train.n()))\n",
    "train=train.subset(np.arange(train.n()*.9,))\n",
    "\n",
    "#load the image files (in original size)    \n",
    "train.load_images()\n",
    "train.load_masks()\n",
    "train.features.head()    \n",
    "plt.figure(figsize=(18, 12), dpi= 80, facecolor='w', edgecolor='k')\n",
    "\n",
    "train.show_image()"
   ]
  },
  {
   "cell_type": "code",
   "execution_count": 4,
   "metadata": {},
   "outputs": [
    {
     "name": "stdout",
     "output_type": "stream",
     "text": [
      "found area model file unet_256x256_xent_v2_area.h5\n",
      "found boundary model file unet_256x256_xent_v2_boundary.h5\n"
     ]
    }
   ],
   "source": [
    "# initialize and train the model \n",
    "# to detect unlabled masks (e.g. the forground vs background)\n",
    "\n",
    "model=ModelUNet_v2.ModelUNet(name=model_name, shape=model_shape)\n",
    "#question: should the model design be adapted according to image dimensions?\n",
    "if not model.trained:\n",
    "    model.fit_model(train)\n"
   ]
  },
  {
   "cell_type": "code",
   "execution_count": null,
   "metadata": {
    "scrolled": false
   },
   "outputs": [],
   "source": [
    "\n",
    "#add_pred ruft models.predict auf, das folgendes macht:\n",
    "# 1) area prediction (wie im beispiel von dem wir geklaut haben)\n",
    "# 2) boundaries prediction (tolle neue innovation von uns)\n",
    "# 3) beides nutzen um die labels zu asignen\n",
    "# 4) rescalen zur originalgröße\n",
    "\n",
    "\n",
    "#add labled predictions to container\n",
    "train.add_predictions(model)\n",
    "# this adds iou scores to train.features and train.nuc_features\n",
    "# scores berechnen dautert ca 1 sec pro bild... ich berechne ne menge scores\n",
    "\n",
    "print( train.features.drop(['ids'], axis=1).head() ) \n",
    "print(\"expected LB score(train): {}\".format(np.mean(train.features['iou_score'])))\n",
    "fig=plt.figure(figsize=(18, 12), dpi= 80, facecolor='w', edgecolor='k')\n",
    "\n",
    "train.show_image()"
   ]
  },
  {
   "cell_type": "code",
   "execution_count": null,
   "metadata": {},
   "outputs": [],
   "source": [
    "image_id=1\n",
    "plt.figure(figsize=(18, 12), dpi= 80, facecolor='w', edgecolor='k')\n",
    "train.show_image(image_id)\n",
    "#print(train.nuc_features.head())\n",
    "\n",
    "train.nuc_features.loc[train.nuc_features['img_id']==image_id,:]"
   ]
  },
  {
   "cell_type": "code",
   "execution_count": null,
   "metadata": {},
   "outputs": [],
   "source": [
    "import matplotlib.pyplot as plt\n",
    "fig=plt.figure(figsize=(18, 12), dpi= 80, facecolor='w', edgecolor='k')\n",
    "train.show_image()"
   ]
  },
  {
   "cell_type": "code",
   "execution_count": 13,
   "metadata": {},
   "outputs": [
    {
     "name": "stderr",
     "output_type": "stream",
     "text": [
      "100%|██████████| 67/67 [00:00<00:00, 148.58it/s]\n",
      "100%|██████████| 67/67 [00:08<00:00,  7.58it/s]\n"
     ]
    },
    {
     "name": "stdout",
     "output_type": "stream",
     "text": [
      "predicting area...\n",
      "predicting boundaries...\n"
     ]
    },
    {
     "name": "stderr",
     "output_type": "stream",
     "text": [
      "  0%|          | 0/67 [00:00<?, ?it/s]/home/lienhard/.local/lib/python3.6/site-packages/skimage/morphology/extrema.py:111: FutureWarning:\n",
      "\n",
      "Conversion of the second argument of issubdtype from `'half'` to `np.floating` is deprecated. In future, it will be treated as `np.float16 == np.dtype('half').type`.\n",
      "\n",
      "/home/lienhard/.local/lib/python3.6/site-packages/skimage/segmentation/_join.py:118: FutureWarning:\n",
      "\n",
      "Conversion of the second argument of issubdtype from `int` to `np.signedinteger` is deprecated. In future, it will be treated as `np.int64 == np.dtype(int).type`.\n",
      "\n",
      "  4%|▍         | 3/67 [00:00<00:02, 23.69it/s]"
     ]
    },
    {
     "name": "stdout",
     "output_type": "stream",
     "text": [
      "labeling predictions...\n"
     ]
    },
    {
     "name": "stderr",
     "output_type": "stream",
     "text": [
      "100%|██████████| 67/67 [00:03<00:00, 20.28it/s]\n",
      "  0%|          | 0/67 [00:00<?, ?it/s]"
     ]
    },
    {
     "name": "stdout",
     "output_type": "stream",
     "text": [
      "computing scores... \n"
     ]
    },
    {
     "name": "stderr",
     "output_type": "stream",
     "text": [
      "100%|██████████| 67/67 [00:15<00:00,  4.19it/s]"
     ]
    },
    {
     "name": "stdout",
     "output_type": "stream",
     "text": [
      "expected LB score(val): 0.46290887005073494\n"
     ]
    },
    {
     "name": "stderr",
     "output_type": "stream",
     "text": [
      "\n"
     ]
    }
   ],
   "source": [
    "#same on validation data\n",
    "val.load_images()\n",
    "val.load_masks()\n",
    "_val=copy.deepcopy(val)\n",
    "val.add_predictions(model,boundary_height=0.05)\n",
    "val.features.drop(['ids'], axis=1).head()\n",
    "print(\"expected LB score(val): {}\".format(np.mean(val.features['iou_score'])))\n"
   ]
  },
  {
   "cell_type": "code",
   "execution_count": 15,
   "metadata": {},
   "outputs": [
    {
     "name": "stdout",
     "output_type": "stream",
     "text": [
      "predicting area...\n",
      "predicting boundaries...\n"
     ]
    },
    {
     "name": "stderr",
     "output_type": "stream",
     "text": [
      "  0%|          | 0/67 [00:00<?, ?it/s]/home/lienhard/.local/lib/python3.6/site-packages/skimage/morphology/extrema.py:111: FutureWarning:\n",
      "\n",
      "Conversion of the second argument of issubdtype from `'half'` to `np.floating` is deprecated. In future, it will be treated as `np.float16 == np.dtype('half').type`.\n",
      "\n",
      "/home/lienhard/.local/lib/python3.6/site-packages/skimage/segmentation/_join.py:118: FutureWarning:\n",
      "\n",
      "Conversion of the second argument of issubdtype from `int` to `np.signedinteger` is deprecated. In future, it will be treated as `np.int64 == np.dtype(int).type`.\n",
      "\n",
      "  4%|▍         | 3/67 [00:00<00:02, 24.42it/s]"
     ]
    },
    {
     "name": "stdout",
     "output_type": "stream",
     "text": [
      "labeling predictions...\n"
     ]
    },
    {
     "name": "stderr",
     "output_type": "stream",
     "text": [
      "100%|██████████| 67/67 [00:03<00:00, 20.61it/s]\n",
      "  0%|          | 0/67 [00:00<?, ?it/s]"
     ]
    },
    {
     "name": "stdout",
     "output_type": "stream",
     "text": [
      "computing scores... \n"
     ]
    },
    {
     "name": "stderr",
     "output_type": "stream",
     "text": [
      "100%|██████████| 67/67 [00:14<00:00,  4.58it/s]\n"
     ]
    },
    {
     "name": "stdout",
     "output_type": "stream",
     "text": [
      "expected LB score(0.01): 0.4469287835859487\n",
      "predicting area...\n",
      "predicting boundaries...\n"
     ]
    },
    {
     "name": "stderr",
     "output_type": "stream",
     "text": [
      "  4%|▍         | 3/67 [00:00<00:02, 24.55it/s]"
     ]
    },
    {
     "name": "stdout",
     "output_type": "stream",
     "text": [
      "labeling predictions...\n"
     ]
    },
    {
     "name": "stderr",
     "output_type": "stream",
     "text": [
      "100%|██████████| 67/67 [00:03<00:00, 20.69it/s]\n",
      "  0%|          | 0/67 [00:00<?, ?it/s]"
     ]
    },
    {
     "name": "stdout",
     "output_type": "stream",
     "text": [
      "computing scores... \n"
     ]
    },
    {
     "name": "stderr",
     "output_type": "stream",
     "text": [
      "100%|██████████| 67/67 [00:14<00:00,  4.53it/s]\n"
     ]
    },
    {
     "name": "stdout",
     "output_type": "stream",
     "text": [
      "expected LB score(0.02): 0.4574563429669061\n",
      "predicting area...\n",
      "predicting boundaries...\n"
     ]
    },
    {
     "name": "stderr",
     "output_type": "stream",
     "text": [
      "  4%|▍         | 3/67 [00:00<00:02, 23.69it/s]"
     ]
    },
    {
     "name": "stdout",
     "output_type": "stream",
     "text": [
      "labeling predictions...\n"
     ]
    },
    {
     "name": "stderr",
     "output_type": "stream",
     "text": [
      "100%|██████████| 67/67 [00:03<00:00, 19.91it/s]\n",
      "  0%|          | 0/67 [00:00<?, ?it/s]"
     ]
    },
    {
     "name": "stdout",
     "output_type": "stream",
     "text": [
      "computing scores... \n"
     ]
    },
    {
     "name": "stderr",
     "output_type": "stream",
     "text": [
      "100%|██████████| 67/67 [00:14<00:00,  4.47it/s]\n"
     ]
    },
    {
     "name": "stdout",
     "output_type": "stream",
     "text": [
      "expected LB score(0.03): 0.4609775545229621\n",
      "predicting area...\n",
      "predicting boundaries...\n"
     ]
    },
    {
     "name": "stderr",
     "output_type": "stream",
     "text": [
      "  4%|▍         | 3/67 [00:00<00:02, 24.05it/s]"
     ]
    },
    {
     "name": "stdout",
     "output_type": "stream",
     "text": [
      "labeling predictions...\n"
     ]
    },
    {
     "name": "stderr",
     "output_type": "stream",
     "text": [
      "100%|██████████| 67/67 [00:03<00:00, 20.36it/s]\n",
      "  0%|          | 0/67 [00:00<?, ?it/s]"
     ]
    },
    {
     "name": "stdout",
     "output_type": "stream",
     "text": [
      "computing scores... \n"
     ]
    },
    {
     "name": "stderr",
     "output_type": "stream",
     "text": [
      "100%|██████████| 67/67 [00:16<00:00,  4.18it/s]\n"
     ]
    },
    {
     "name": "stdout",
     "output_type": "stream",
     "text": [
      "expected LB score(0.04): 0.4622850750555975\n",
      "predicting area...\n",
      "predicting boundaries...\n"
     ]
    },
    {
     "name": "stderr",
     "output_type": "stream",
     "text": [
      "  4%|▍         | 3/67 [00:00<00:02, 24.03it/s]"
     ]
    },
    {
     "name": "stdout",
     "output_type": "stream",
     "text": [
      "labeling predictions...\n"
     ]
    },
    {
     "name": "stderr",
     "output_type": "stream",
     "text": [
      "100%|██████████| 67/67 [00:03<00:00, 20.41it/s]\n",
      "  0%|          | 0/67 [00:00<?, ?it/s]"
     ]
    },
    {
     "name": "stdout",
     "output_type": "stream",
     "text": [
      "computing scores... \n"
     ]
    },
    {
     "name": "stderr",
     "output_type": "stream",
     "text": [
      "100%|██████████| 67/67 [00:15<00:00,  4.20it/s]\n"
     ]
    },
    {
     "name": "stdout",
     "output_type": "stream",
     "text": [
      "expected LB score(0.05): 0.46290887005073494\n",
      "predicting area...\n",
      "predicting boundaries...\n"
     ]
    },
    {
     "name": "stderr",
     "output_type": "stream",
     "text": [
      "  4%|▍         | 3/67 [00:00<00:02, 23.96it/s]"
     ]
    },
    {
     "name": "stdout",
     "output_type": "stream",
     "text": [
      "labeling predictions...\n"
     ]
    },
    {
     "name": "stderr",
     "output_type": "stream",
     "text": [
      "100%|██████████| 67/67 [00:03<00:00, 20.40it/s]\n",
      "  0%|          | 0/67 [00:00<?, ?it/s]"
     ]
    },
    {
     "name": "stdout",
     "output_type": "stream",
     "text": [
      "computing scores... \n"
     ]
    },
    {
     "name": "stderr",
     "output_type": "stream",
     "text": [
      "100%|██████████| 67/67 [00:15<00:00,  4.19it/s]\n"
     ]
    },
    {
     "name": "stdout",
     "output_type": "stream",
     "text": [
      "expected LB score(0.060000000000000005): 0.46328323712665526\n",
      "predicting area...\n",
      "predicting boundaries...\n"
     ]
    },
    {
     "name": "stderr",
     "output_type": "stream",
     "text": [
      "  4%|▍         | 3/67 [00:00<00:02, 24.16it/s]"
     ]
    },
    {
     "name": "stdout",
     "output_type": "stream",
     "text": [
      "labeling predictions...\n"
     ]
    },
    {
     "name": "stderr",
     "output_type": "stream",
     "text": [
      "100%|██████████| 67/67 [00:03<00:00, 20.47it/s]\n",
      "  0%|          | 0/67 [00:00<?, ?it/s]"
     ]
    },
    {
     "name": "stdout",
     "output_type": "stream",
     "text": [
      "computing scores... \n"
     ]
    },
    {
     "name": "stderr",
     "output_type": "stream",
     "text": [
      "100%|██████████| 67/67 [00:16<00:00,  4.16it/s]\n"
     ]
    },
    {
     "name": "stdout",
     "output_type": "stream",
     "text": [
      "expected LB score(0.06999999999999999): 0.45838076402397787\n",
      "predicting area...\n",
      "predicting boundaries...\n"
     ]
    },
    {
     "name": "stderr",
     "output_type": "stream",
     "text": [
      "  4%|▍         | 3/67 [00:00<00:02, 24.00it/s]"
     ]
    },
    {
     "name": "stdout",
     "output_type": "stream",
     "text": [
      "labeling predictions...\n"
     ]
    },
    {
     "name": "stderr",
     "output_type": "stream",
     "text": [
      "100%|██████████| 67/67 [00:03<00:00, 20.42it/s]\n",
      "  0%|          | 0/67 [00:00<?, ?it/s]"
     ]
    },
    {
     "name": "stdout",
     "output_type": "stream",
     "text": [
      "computing scores... \n"
     ]
    },
    {
     "name": "stderr",
     "output_type": "stream",
     "text": [
      "100%|██████████| 67/67 [00:16<00:00,  4.19it/s]\n"
     ]
    },
    {
     "name": "stdout",
     "output_type": "stream",
     "text": [
      "expected LB score(0.08): 0.458187332785142\n",
      "predicting area...\n",
      "predicting boundaries...\n"
     ]
    },
    {
     "name": "stderr",
     "output_type": "stream",
     "text": [
      "  4%|▍         | 3/67 [00:00<00:02, 24.57it/s]"
     ]
    },
    {
     "name": "stdout",
     "output_type": "stream",
     "text": [
      "labeling predictions...\n"
     ]
    },
    {
     "name": "stderr",
     "output_type": "stream",
     "text": [
      "100%|██████████| 67/67 [00:03<00:00, 20.69it/s]\n",
      "  0%|          | 0/67 [00:00<?, ?it/s]"
     ]
    },
    {
     "name": "stdout",
     "output_type": "stream",
     "text": [
      "computing scores... \n"
     ]
    },
    {
     "name": "stderr",
     "output_type": "stream",
     "text": [
      "100%|██████████| 67/67 [00:16<00:00,  4.14it/s]"
     ]
    },
    {
     "name": "stdout",
     "output_type": "stream",
     "text": [
      "expected LB score(0.09): 0.4563637017332251\n"
     ]
    },
    {
     "name": "stderr",
     "output_type": "stream",
     "text": [
      "\n"
     ]
    }
   ],
   "source": [
    "#find optimum\n",
    "mean_score=[]\n",
    "for h in np.arange(0.01,.1,.01):\n",
    "    _v=copy.deepcopy(_val)\n",
    "    _v.add_predictions(model,boundary_height=h)\n",
    "    score=np.mean(_v.features['iou_score'])\n",
    "    print(\"expected LB score({}): {}\".format(h, score))\n",
    "    mean_score.append(score)\n",
    "#optimal hight ~0.06"
   ]
  },
  {
   "cell_type": "code",
   "execution_count": null,
   "metadata": {},
   "outputs": [],
   "source": [
    "#whats going on here????\n",
    "#step by step\n",
    "#pa=model.predict_area(val).reshape((-1,)+model_shape[:2])\n",
    "#pb=model.predict_boundary(val).reshape((-1,)+model_shape[:2])\n",
    "idx=12\n",
    "plt.imshow(pa[idx].reshape(pa[idx].shape[:2]))\n",
    "plt.show()\n",
    "\n",
    "plt.imshow(pb[idx].reshape(pb[idx].shape[:2]))\n",
    "plt.show()\n",
    "\n",
    "#those are OK!\n"
   ]
  },
  {
   "cell_type": "code",
   "execution_count": null,
   "metadata": {},
   "outputs": [],
   "source": [
    "import skimage.restoration\n",
    "#import peakutils\n",
    "th=0.5\n",
    "idx=0\n",
    "lab_pred=np.zeros_like(pa, dtype=np.uint)\n",
    "local_maxi=np.zeros_like(pa, dtype=np.uint)\n",
    "markers=np.zeros_like(pa, dtype=np.uint)\n",
    "i=idx\n",
    "#for i in tqdm.tqdm(range(pa.shape[0])):\n",
    "if 1:\n",
    "    #get at least one pixel in each nuclei that is not connected to another\n",
    "    _pa=copy.deepcopy(pa[i])\n",
    "    _pb=copy.deepcopy(pb[i])\n",
    "    _lab=scipy.ndimage.label(_pa>th)[0]\n",
    "    _dist=scipy.ndimage.distance_transform_edt(_pa>.5)\n",
    "    #_pb[_pb<.02]=0\n",
    "    #_pb=skimage.restoration.denoise_tv_chambolle(_pb,multichannel=False)\n",
    "    #local_maxi[i]=skimage.feature.peak_local_max(1-_pb, indices=False,threshold_rel=.9 , labels=_lab, exclude_border=3,min_distance=1 )\n",
    "    local_maxi[i]=skimage.morphology.h_maxima((1-_pb), h=.01)\n",
    "    local_maxi[i][_pa<th]=0\n",
    "    #local_maxi[i]=skimage.feature.corner_peaks(1-_pb, indices=False,threshold_rel=.9 , labels=_lab, exclude_border=3)\n",
    "    #label these starts\n",
    "    markers[i] = scipy.ndimage.label(local_maxi[i])[0]\n",
    "    lab_pred[i] = skimage.morphology.watershed(_pb, markers[i], mask=_pa>th)\n",
    "    #lab_pred[i][_pa<th]=0\n",
    "    lab_pred[i]=skimage.segmentation.relabel_sequential(lab_pred[i])[0]\n"
   ]
  },
  {
   "cell_type": "code",
   "execution_count": null,
   "metadata": {},
   "outputs": [],
   "source": [
    "\n",
    "\n",
    "\n",
    "plt.imshow(val.images[idx])\n",
    "plt.show()\n",
    "plt.imshow(_lab)\n",
    "plt.show()\n",
    "#plt.imshow(local_maxi[idx])\n",
    "#plt.show()\n",
    "\n",
    "#plt.imshow(markers[idx])\n",
    "#plt.show()\n",
    "\n",
    "plt.imshow(lab_pred[idx])\n",
    "plt.show()\n"
   ]
  },
  {
   "cell_type": "code",
   "execution_count": null,
   "metadata": {},
   "outputs": [],
   "source": [
    "val.features['iou_score']"
   ]
  },
  {
   "cell_type": "code",
   "execution_count": null,
   "metadata": {},
   "outputs": [],
   "source": [
    "idx=0\n",
    "fig=plt.figure(figsize=(18, 12), dpi= 150, facecolor='w', edgecolor='k')\n",
    "val.show_image(idx)\n",
    "\n",
    "plt.imshow(pa[idx].reshape(pa[idx].shape[:2]))\n",
    "plt.show()\n",
    "\n",
    "plt.imshow(pb[idx].reshape(pb[idx].shape[:2]))\n",
    "plt.show()\n",
    "\n"
   ]
  },
  {
   "cell_type": "markdown",
   "metadata": {},
   "source": [
    "## Prediction (on test data)\n",
    "* load test data\n",
    "* use model to predict masks\n",
    "* prepare submission file"
   ]
  },
  {
   "cell_type": "code",
   "execution_count": 18,
   "metadata": {},
   "outputs": [
    {
     "name": "stderr",
     "output_type": "stream",
     "text": [
      "100%|██████████| 65/65 [00:00<00:00, 100.04it/s]\n"
     ]
    },
    {
     "name": "stdout",
     "output_type": "stream",
     "text": [
      "making predictions...\n",
      "predicting area...\n",
      "predicting boundaries...\n"
     ]
    },
    {
     "name": "stderr",
     "output_type": "stream",
     "text": [
      "  0%|          | 0/65 [00:00<?, ?it/s]/home/lienhard/.local/lib/python3.6/site-packages/skimage/morphology/extrema.py:111: FutureWarning:\n",
      "\n",
      "Conversion of the second argument of issubdtype from `'half'` to `np.floating` is deprecated. In future, it will be treated as `np.float16 == np.dtype('half').type`.\n",
      "\n",
      "/home/lienhard/.local/lib/python3.6/site-packages/skimage/segmentation/_join.py:118: FutureWarning:\n",
      "\n",
      "Conversion of the second argument of issubdtype from `int` to `np.signedinteger` is deprecated. In future, it will be treated as `np.int64 == np.dtype(int).type`.\n",
      "\n",
      "  5%|▍         | 3/65 [00:00<00:03, 19.23it/s]"
     ]
    },
    {
     "name": "stdout",
     "output_type": "stream",
     "text": [
      "labeling predictions...\n"
     ]
    },
    {
     "name": "stderr",
     "output_type": "stream",
     "text": [
      "100%|██████████| 65/65 [00:03<00:00, 18.52it/s]\n"
     ]
    }
   ],
   "source": [
    "test=Images.Images(\"../input/stage1_test\")\n",
    "\n",
    "#load the image files (in original size)    \n",
    "test.load_images()\n",
    "print('making predictions...')\n",
    "test.add_predictions(model,boundary_height=0.06)\n",
    "#much faster, no scores to calculate\n"
   ]
  },
  {
   "cell_type": "code",
   "execution_count": 19,
   "metadata": {},
   "outputs": [
    {
     "data": {
      "text/plain": [
       "0"
      ]
     },
     "execution_count": 19,
     "metadata": {},
     "output_type": "execute_result"
    }
   ],
   "source": [
    "submission_file='submission_' + model_name + '.csv'\n",
    "test.write_submission(submission_file)\n",
    "\n"
   ]
  },
  {
   "cell_type": "code",
   "execution_count": null,
   "metadata": {},
   "outputs": [],
   "source": [
    "\n",
    "##########\n",
    "# scores #\n",
    "##########\n",
    "print('Scores for first test image:')\n",
    "#unlabeled IOU\n",
    "print('IoU: {}'.format(Images.iou(val.masks[0] > 0, unlab_pred[0]>0.5)))\n",
    "#labled IOUs per nucleus\n",
    "print('IoU per nucleus: {}'.format(Images.iou(val.masks[0], val.pred[0])))\n",
    "#mean IOU\n",
    "print('mean IoU: {}'.format(np.mean(Images.iou(val.masks[0], val.pred[0]))))\n",
    "# fraction of nuclei > th\n",
    "print('fraction of nuclei has IoU > 0.5: {}'.format(Images.iou_score(val.masks[0], val.pred[0], th=[.5])))\n",
    "print('fraction of nuclei has IoU > 0.95: {}'.format(Images.iou_score(val.masks[0], val.pred[0], th=[.95])))\n",
    "# fraction of nuclei > th average over range of thresholds\n",
    "print('IoU score (over range of thresholds): {}'.format(Images.iou_score(val.masks[0], val.pred[0])))\n",
    "\n",
    "val.show_image(0)"
   ]
  },
  {
   "cell_type": "code",
   "execution_count": null,
   "metadata": {},
   "outputs": [],
   "source": []
  }
 ],
 "metadata": {
  "kernelspec": {
   "display_name": "Python 3",
   "language": "python",
   "name": "python3"
  },
  "language_info": {
   "codemirror_mode": {
    "name": "ipython",
    "version": 3
   },
   "file_extension": ".py",
   "mimetype": "text/x-python",
   "name": "python",
   "nbconvert_exporter": "python",
   "pygments_lexer": "ipython3",
   "version": "3.6.4"
  }
 },
 "nbformat": 4,
 "nbformat_minor": 2
}
