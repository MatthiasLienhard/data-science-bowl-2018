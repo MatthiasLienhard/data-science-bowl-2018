{
 "cells": [
  {
   "cell_type": "markdown",
   "metadata": {},
   "source": [
    "# General workflow\n",
    "This workflow is a starting point to demonstrate the functionality of the containers and to detect and classify difficult cases"
   ]
  },
  {
   "cell_type": "code",
   "execution_count": 1,
   "metadata": {},
   "outputs": [
    {
     "name": "stderr",
     "output_type": "stream",
     "text": [
      "/home/lienhard/.local/lib/python3.6/site-packages/h5py/__init__.py:36: FutureWarning: Conversion of the second argument of issubdtype from `float` to `np.floating` is deprecated. In future, it will be treated as `np.float64 == np.dtype(float).type`.\n",
      "  from ._conv import register_converters as _register_converters\n",
      "Using TensorFlow backend.\n"
     ]
    }
   ],
   "source": [
    "\n",
    "import numpy as np\n",
    "import pandas as pd\n",
    "import skimage\n",
    "import Images\n",
    "import ModelUNet_rep\n",
    "import copy\n",
    "\n"
   ]
  },
  {
   "cell_type": "code",
   "execution_count": 2,
   "metadata": {},
   "outputs": [
    {
     "name": "stdout",
     "output_type": "stream",
     "text": [
      "the model will be called 'unet_boundaries_256x256_debug'\n"
     ]
    }
   ],
   "source": [
    "#some definitions\n",
    "debug=True #perform on a subset --> faster\n",
    "model_shape=(256,256,3) #works with shape (2^x, 2^x) only?\n",
    "model_name='unet_boundaries_{}x{}'.format(model_shape[0],model_shape[1])\n",
    "if debug:\n",
    "    model_name += '_debug'\n",
    "\n",
    "print('the model will be called \\''+model_name+'\\'')\n"
   ]
  },
  {
   "cell_type": "markdown",
   "metadata": {},
   "source": [
    "## Training\n",
    "* load training data\n",
    "* train the model (if not yet done)\n",
    "* "
   ]
  },
  {
   "cell_type": "code",
   "execution_count": 3,
   "metadata": {},
   "outputs": [
    {
     "name": "stderr",
     "output_type": "stream",
     "text": [
      "100%|██████████| 18/18 [00:00<00:00, 149.12it/s]\n",
      "100%|██████████| 18/18 [00:01<00:00, 17.47it/s]\n"
     ]
    },
    {
     "name": "stdout",
     "output_type": "stream",
     "text": [
      "                                                 ids  size_x  size_y  \\\n",
      "6  0287e7ee5b007c91ae2bd7628d09735e70496bc6127ecb...     256     256   \n",
      "\n",
      "   n_channels  nuclei_n  nuclei_meanSz  nuclei_stdSz  nuclei_minSz  \\\n",
      "6           1        62            261           144            21   \n",
      "\n",
      "   nuclei_maxSz  \n",
      "6           656  \n"
     ]
    },
    {
     "data": {
      "image/png": "[encoded data removed]",
      "text/plain": [
       "<matplotlib.figure.Figure at 0x7f0f3bfa1470>"
      ]
     },
     "metadata": {},
     "output_type": "display_data"
    }
   ],
   "source": [
    "train=Images.Images(\"../input/stage1_train\")\n",
    "if debug:\n",
    "    #subselect, to make it faster \n",
    "    train=train.subset(idx=range(20))\n",
    "    #todo: overload [] to get this\n",
    "\n",
    "#set aside 10% for validation\n",
    "val=train.subset(np.arange(train.n()*.9, train.n()))\n",
    "train=train.subset(np.arange(train.n()*.9,))\n",
    "\n",
    "#load the image files (in original size)    \n",
    "train.load_images()\n",
    "train.load_masks()\n",
    "train.features.head()    \n",
    "\n",
    "train.show_image()"
   ]
  },
  {
   "cell_type": "code",
   "execution_count": null,
   "metadata": {},
   "outputs": [],
   "source": [
    "\n",
    "#we want to learn the boundaries\n",
    "trainmasks=train.masks\n",
    "train.masks=copy.deepcopy(train.mask_boundaries)\n",
    "valmasks=val.masks\n",
    "val.masks=copy.deepcopy(val.mask_boundaries)\n",
    "train.show_image()"
   ]
  },
  {
   "cell_type": "code",
   "execution_count": 4,
   "metadata": {},
   "outputs": [
    {
     "name": "stdout",
     "output_type": "stream",
     "text": [
      "Train on 16 samples, validate on 2 samples\n",
      "Epoch 1/50\n",
      "\n",
      "Epoch 00001: val_loss improved from inf to 0.80813, saving model to unet_boundaries_256x256_debug.h5\n",
      "16/16 [==============================] - 13s 786ms/step - loss: 0.8465 - mean_iou: 0.0000e+00 - val_loss: 0.8081 - val_mean_iou: 0.4031\n",
      "Epoch 2/50\n",
      "\n",
      "Epoch 00002: val_loss improved from 0.80813 to 0.78405, saving model to unet_boundaries_256x256_debug.h5\n",
      "16/16 [==============================] - 9s 565ms/step - loss: 0.8251 - mean_iou: 0.4081 - val_loss: 0.7841 - val_mean_iou: 0.4084\n",
      "Epoch 3/50\n",
      "\n",
      "Epoch 00003: val_loss improved from 0.78405 to 0.75730, saving model to unet_boundaries_256x256_debug.h5\n",
      "16/16 [==============================] - 9s 546ms/step - loss: 0.8088 - mean_iou: 0.4134 - val_loss: 0.7573 - val_mean_iou: 0.4148\n",
      "Epoch 4/50\n",
      "\n",
      "Epoch 00004: val_loss improved from 0.75730 to 0.69658, saving model to unet_boundaries_256x256_debug.h5\n",
      "16/16 [==============================] - 8s 521ms/step - loss: 0.7914 - mean_iou: 0.4200 - val_loss: 0.6966 - val_mean_iou: 0.4298\n",
      "Epoch 5/50\n",
      "\n",
      "Epoch 00005: val_loss improved from 0.69658 to 0.58538, saving model to unet_boundaries_256x256_debug.h5\n",
      "16/16 [==============================] - 9s 552ms/step - loss: 0.7609 - mean_iou: 0.4350 - val_loss: 0.5854 - val_mean_iou: 0.4503\n",
      "Epoch 6/50\n",
      "\n",
      "Epoch 00006: val_loss did not improve\n",
      "16/16 [==============================] - 8s 520ms/step - loss: 0.7059 - mean_iou: 0.4539 - val_loss: 0.6734 - val_mean_iou: 0.4664\n",
      "Epoch 7/50\n",
      "\n",
      "Epoch 00007: val_loss improved from 0.58538 to 0.57066, saving model to unet_boundaries_256x256_debug.h5\n",
      "16/16 [==============================] - 9s 551ms/step - loss: 0.7938 - mean_iou: 0.4682 - val_loss: 0.5707 - val_mean_iou: 0.4410\n",
      "Epoch 8/50\n",
      "\n",
      "Epoch 00008: val_loss improved from 0.57066 to 0.47439, saving model to unet_boundaries_256x256_debug.h5\n",
      "16/16 [==============================] - 9s 541ms/step - loss: 0.7710 - mean_iou: 0.4441 - val_loss: 0.4744 - val_mean_iou: 0.4289\n",
      "Epoch 9/50\n",
      "\n",
      "Epoch 00009: val_loss did not improve\n",
      "16/16 [==============================] - 9s 547ms/step - loss: 0.6272 - mean_iou: 0.4317 - val_loss: 0.5748 - val_mean_iou: 0.4432\n",
      "Epoch 10/50\n",
      "\n",
      "Epoch 00010: val_loss did not improve\n",
      "16/16 [==============================] - 9s 545ms/step - loss: 0.7140 - mean_iou: 0.4449 - val_loss: 0.5956 - val_mean_iou: 0.4424\n",
      "Epoch 11/50\n",
      "\n",
      "Epoch 00011: val_loss did not improve\n",
      "16/16 [==============================] - 9s 534ms/step - loss: 0.6237 - mean_iou: 0.4436 - val_loss: 0.7590 - val_mean_iou: 0.4517\n",
      "Epoch 12/50\n",
      "\n",
      "Epoch 00012: val_loss did not improve\n",
      "16/16 [==============================] - 9s 531ms/step - loss: 0.7324 - mean_iou: 0.4516 - val_loss: 0.5648 - val_mean_iou: 0.4566\n",
      "Epoch 13/50\n",
      "\n",
      "Epoch 00013: val_loss improved from 0.47439 to 0.35734, saving model to unet_boundaries_256x256_debug.h5\n",
      "16/16 [==============================] - 9s 554ms/step - loss: 0.5926 - mean_iou: 0.4577 - val_loss: 0.3573 - val_mean_iou: 0.4653\n",
      "Epoch 14/50\n",
      "\n",
      "Epoch 00014: val_loss improved from 0.35734 to 0.26725, saving model to unet_boundaries_256x256_debug.h5\n",
      "16/16 [==============================] - 9s 545ms/step - loss: 0.6113 - mean_iou: 0.4672 - val_loss: 0.2673 - val_mean_iou: 0.4728\n",
      "Epoch 15/50\n",
      "\n",
      "Epoch 00015: val_loss did not improve\n",
      "16/16 [==============================] - 9s 532ms/step - loss: 0.5873 - mean_iou: 0.4747 - val_loss: 0.2725 - val_mean_iou: 0.4806\n",
      "Epoch 16/50\n",
      "\n",
      "Epoch 00016: val_loss improved from 0.26725 to 0.20912, saving model to unet_boundaries_256x256_debug.h5\n",
      "16/16 [==============================] - 9s 547ms/step - loss: 0.5782 - mean_iou: 0.4823 - val_loss: 0.2091 - val_mean_iou: 0.4878\n",
      "Epoch 17/50\n",
      "\n",
      "Epoch 00017: val_loss improved from 0.20912 to 0.18018, saving model to unet_boundaries_256x256_debug.h5\n",
      "16/16 [==============================] - 9s 569ms/step - loss: 0.5653 - mean_iou: 0.4896 - val_loss: 0.1802 - val_mean_iou: 0.4947\n",
      "Epoch 18/50\n",
      "\n",
      "Epoch 00018: val_loss improved from 0.18018 to 0.17193, saving model to unet_boundaries_256x256_debug.h5\n",
      "16/16 [==============================] - 9s 551ms/step - loss: 0.5683 - mean_iou: 0.4964 - val_loss: 0.1719 - val_mean_iou: 0.5009\n",
      "Epoch 19/50\n",
      "\n",
      "Epoch 00019: val_loss did not improve\n",
      "16/16 [==============================] - 9s 551ms/step - loss: 0.5605 - mean_iou: 0.5025 - val_loss: 0.1872 - val_mean_iou: 0.5067\n",
      "Epoch 20/50\n",
      "\n",
      "Epoch 00020: val_loss did not improve\n",
      "16/16 [==============================] - 9s 534ms/step - loss: 0.5530 - mean_iou: 0.5082 - val_loss: 0.2038 - val_mean_iou: 0.5122\n",
      "Epoch 21/50\n",
      "\n",
      "Epoch 00021: val_loss improved from 0.17193 to 0.16975, saving model to unet_boundaries_256x256_debug.h5\n",
      "16/16 [==============================] - 9s 544ms/step - loss: 0.5557 - mean_iou: 0.5136 - val_loss: 0.1697 - val_mean_iou: 0.5171\n",
      "Epoch 22/50\n",
      "\n",
      "Epoch 00022: val_loss improved from 0.16975 to 0.16594, saving model to unet_boundaries_256x256_debug.h5\n",
      "16/16 [==============================] - 9s 541ms/step - loss: 0.5433 - mean_iou: 0.5185 - val_loss: 0.1659 - val_mean_iou: 0.5221\n",
      "Epoch 23/50\n",
      "\n",
      "Epoch 00023: val_loss improved from 0.16594 to 0.14682, saving model to unet_boundaries_256x256_debug.h5\n",
      "16/16 [==============================] - 9s 547ms/step - loss: 0.5456 - mean_iou: 0.5234 - val_loss: 0.1468 - val_mean_iou: 0.5266\n",
      "Epoch 24/50\n",
      "\n",
      "Epoch 00024: val_loss improved from 0.14682 to 0.14656, saving model to unet_boundaries_256x256_debug.h5\n",
      "16/16 [==============================] - 9s 549ms/step - loss: 0.5336 - mean_iou: 0.5278 - val_loss: 0.1466 - val_mean_iou: 0.5311\n",
      "Epoch 25/50\n",
      "\n",
      "Epoch 00025: val_loss did not improve\n",
      "16/16 [==============================] - 8s 531ms/step - loss: 0.5399 - mean_iou: 0.5323 - val_loss: 0.1602 - val_mean_iou: 0.5351\n",
      "Epoch 26/50\n",
      "\n",
      "Epoch 00026: val_loss did not improve\n",
      "16/16 [==============================] - 9s 545ms/step - loss: 0.5342 - mean_iou: 0.5362 - val_loss: 0.1554 - val_mean_iou: 0.5390\n",
      "Epoch 27/50\n",
      "\n",
      "Epoch 00027: val_loss did not improve\n",
      "16/16 [==============================] - 9s 538ms/step - loss: 0.5265 - mean_iou: 0.5401 - val_loss: 0.1540 - val_mean_iou: 0.5427\n",
      "Epoch 28/50\n",
      "\n",
      "Epoch 00028: val_loss did not improve\n",
      "16/16 [==============================] - 8s 531ms/step - loss: 0.5262 - mean_iou: 0.5437 - val_loss: 0.1538 - val_mean_iou: 0.5462\n",
      "Epoch 29/50\n",
      "\n",
      "Epoch 00029: val_loss did not improve\n",
      "16/16 [==============================] - 9s 545ms/step - loss: 0.5244 - mean_iou: 0.5472 - val_loss: 0.1559 - val_mean_iou: 0.5496\n",
      "Epoch 00029: early stopping\n"
     ]
    }
   ],
   "source": [
    "# initialize and train the model \n",
    "# to detect unlabled masks (e.g. the forground vs background)\n",
    "\n",
    "\n",
    "m_file=model_name+'.h5'\n",
    "\n",
    "model=ModelUNet_rep.ModelUNet(m_file=m_file, shape=(256,256,3))\n",
    "#question: should the model design be adapted according to image dimensions?\n",
    "if not model.trained:\n",
    "    model.fit_model(train)\n"
   ]
  },
  {
   "cell_type": "code",
   "execution_count": 5,
   "metadata": {},
   "outputs": [
    {
     "name": "stdout",
     "output_type": "stream",
     "text": [
      "making predictions...\n",
      "rescale probability vector...\n",
      "skimage version: 0.13.1\n"
     ]
    },
    {
     "name": "stderr",
     "output_type": "stream",
     "text": [
      "/project/42/lienhard/github/kaggle/data-science-bowl-2018/working/Images.py:51: FutureWarning: elementwise comparison failed; returning scalar instead, but in the future will perform elementwise comparison\n",
      "  if what==\"images\":\n",
      "/project/42/lienhard/github/kaggle/data-science-bowl-2018/working/Images.py:53: FutureWarning: elementwise comparison failed; returning scalar instead, but in the future will perform elementwise comparison\n",
      "  elif what == \"masks\":\n"
     ]
    },
    {
     "ename": "ValueError",
     "evalue": "what should be \"images\" or \"masks\"",
     "output_type": "error",
     "traceback": [
      "\u001b[0;31m---------------------------------------------------------------------------\u001b[0m",
      "\u001b[0;31mValueError\u001b[0m                                Traceback (most recent call last)",
      "\u001b[0;32m<ipython-input-5-1081803d8e75>\u001b[0m in \u001b[0;36m<module>\u001b[0;34m()\u001b[0m\n\u001b[1;32m     11\u001b[0m \u001b[0mprint\u001b[0m\u001b[0;34m(\u001b[0m\u001b[0;34m\"skimage version: {}\"\u001b[0m\u001b[0;34m.\u001b[0m\u001b[0mformat\u001b[0m\u001b[0;34m(\u001b[0m\u001b[0mskimage\u001b[0m\u001b[0;34m.\u001b[0m\u001b[0m__version__\u001b[0m\u001b[0;34m)\u001b[0m\u001b[0;34m)\u001b[0m\u001b[0;34m\u001b[0m\u001b[0m\n\u001b[1;32m     12\u001b[0m \u001b[0;31m# for the probability vector antialiasing should be rather beneficial\u001b[0m\u001b[0;34m\u001b[0m\u001b[0;34m\u001b[0m\u001b[0m\n\u001b[0;32m---> 13\u001b[0;31m \u001b[0munlab_pred\u001b[0m\u001b[0;34m=\u001b[0m\u001b[0mtrain\u001b[0m\u001b[0;34m.\u001b[0m\u001b[0mrescale\u001b[0m\u001b[0;34m(\u001b[0m\u001b[0mscaled_pred\u001b[0m\u001b[0;34m,\u001b[0m \u001b[0mscale\u001b[0m\u001b[0;34m=\u001b[0m\u001b[0;32mNone\u001b[0m\u001b[0;34m,\u001b[0m \u001b[0mdtype\u001b[0m\u001b[0;34m=\u001b[0m\u001b[0mnp\u001b[0m\u001b[0;34m.\u001b[0m\u001b[0mfloat32\u001b[0m\u001b[0;34m,\u001b[0m \u001b[0mmode\u001b[0m\u001b[0;34m=\u001b[0m\u001b[0;34m'reflect'\u001b[0m\u001b[0;34m)\u001b[0m\u001b[0;34m\u001b[0m\u001b[0m\n\u001b[0m\u001b[1;32m     14\u001b[0m \u001b[0;34m\u001b[0m\u001b[0m\n\u001b[1;32m     15\u001b[0m \u001b[0mprint\u001b[0m\u001b[0;34m(\u001b[0m\u001b[0;34m'labeling predictions...'\u001b[0m\u001b[0;34m)\u001b[0m\u001b[0;34m\u001b[0m\u001b[0m\n",
      "\u001b[0;32m/project/42/lienhard/github/kaggle/data-science-bowl-2018/working/Images.py\u001b[0m in \u001b[0;36mrescale\u001b[0;34m(self, what, scale, idx, dtype, **kwargs)\u001b[0m\n\u001b[1;32m     54\u001b[0m             \u001b[0mimgs\u001b[0m\u001b[0;34m=\u001b[0m\u001b[0mself\u001b[0m\u001b[0;34m.\u001b[0m\u001b[0mmasks\u001b[0m\u001b[0;34m\u001b[0m\u001b[0m\n\u001b[1;32m     55\u001b[0m         \u001b[0;32melse\u001b[0m\u001b[0;34m:\u001b[0m\u001b[0;34m\u001b[0m\u001b[0m\n\u001b[0;32m---> 56\u001b[0;31m             \u001b[0;32mraise\u001b[0m \u001b[0mValueError\u001b[0m\u001b[0;34m(\u001b[0m\u001b[0;34m'what should be \"images\" or \"masks\"'\u001b[0m\u001b[0;34m)\u001b[0m\u001b[0;34m\u001b[0m\u001b[0m\n\u001b[0m\u001b[1;32m     57\u001b[0m \u001b[0;34m\u001b[0m\u001b[0m\n\u001b[1;32m     58\u001b[0m         \u001b[0;32mif\u001b[0m \u001b[0midx\u001b[0m \u001b[0;32mis\u001b[0m \u001b[0;32mNone\u001b[0m\u001b[0;34m:\u001b[0m\u001b[0;34m\u001b[0m\u001b[0m\n",
      "\u001b[0;31mValueError\u001b[0m: what should be \"images\" or \"masks\""
     ]
    }
   ],
   "source": [
    "\n",
    "#unlabled prediction (probability of pixle belonging to forground) \n",
    "#scaled to the dimensions of the model (e.g. 256x256)\n",
    "print('making predictions...')\n",
    "scaled_pred=model.predict_unlabeld(train)\n",
    "\n",
    "\n",
    "print('rescale probability vector...')\n",
    "# rescaling performs anti-aliasing, which can disturb lable masks\n",
    "# it cannot be swhiched of for my version of skimage 0.13.1, only with dev0.14\n",
    "print(\"skimage version: {}\".format(skimage.__version__))\n",
    "# for the probability vector antialiasing should be rather beneficial\n",
    "unlab_pred=train.rescale(scaled_pred, scale=None, dtype=np.float32, mode='reflect')\n",
    "\n",
    "print('labeling predictions...')\n",
    "pred=model.label(unlab_pred, th=0.5) #this function should also use the images\n",
    "#add labled predictions to container\n",
    "train.add_pred(pred)\n",
    "# this adds iou scores to train.features\n",
    "print( train.features.drop(['ids'], axis=1).head() ) \n",
    "print(\"expected LB score(train): {}\".format(np.mean(train.features['iou_score'])))\n",
    "\n",
    "train.show_image()"
   ]
  },
  {
   "cell_type": "code",
   "execution_count": null,
   "metadata": {},
   "outputs": [],
   "source": [
    "import matplotlib.pyplot as plt\n",
    "fig=plt.figure(figsize=(18, 12), dpi= 80, facecolor='w', edgecolor='k')\n",
    "train.show_image()"
   ]
  },
  {
   "cell_type": "code",
   "execution_count": null,
   "metadata": {},
   "outputs": [],
   "source": [
    "#same on validation data\n",
    "val.load_images()\n",
    "val.load_masks()\n",
    "print('making predictions...')\n",
    "scaled_pred=model.predict_unlabeld(val)\n",
    "print('rescale probability vector...')\n",
    "unlab_pred=val.rescale(scaled_pred, scale=None, dtype=np.float32, mode='reflect')\n",
    "print('labeling predinctions...')\n",
    "pred=model.label(unlab_pred, th=0.5) \n",
    "val.add_pred(pred)\n",
    "val.features.drop(['ids'], axis=1).head()\n",
    "print(\"expected LB score(val): {}\".format(np.mean(val.features['iou_score'])))\n"
   ]
  },
  {
   "cell_type": "code",
   "execution_count": null,
   "metadata": {},
   "outputs": [],
   "source": [
    "fig=plt.figure(figsize=(18, 12), dpi= 150, facecolor='w', edgecolor='k')\n",
    "val.show_image()"
   ]
  },
  {
   "cell_type": "markdown",
   "metadata": {},
   "source": [
    "## Prediction (on test data)\n",
    "* load test data\n",
    "* use model to predict masks\n",
    "* prepare submission file"
   ]
  },
  {
   "cell_type": "code",
   "execution_count": null,
   "metadata": {},
   "outputs": [],
   "source": [
    "test=Images.Images(\"../input/stage1_test\")\n",
    "\n",
    "#load the image files (in original size)    \n",
    "test.load_images()\n",
    "\n",
    "test.features.head()    \n"
   ]
  },
  {
   "cell_type": "code",
   "execution_count": null,
   "metadata": {},
   "outputs": [],
   "source": [
    "print('making predictions...')\n",
    "scaled_pred=model.predict_unlabeld(test)\n",
    "\n",
    "\n",
    "print('rescale probability vector...')\n",
    "unlab_pred=test.rescale(scaled_pred, scale=None, dtype=np.float32, mode='reflect')\n",
    "\n",
    "print('labeling predinctions...')\n",
    "pred=model.label(unlab_pred, th=0.5)\n",
    "test.add_pred(pred)\n"
   ]
  },
  {
   "cell_type": "code",
   "execution_count": null,
   "metadata": {},
   "outputs": [],
   "source": [
    "submission_file='submission' + model_name + '.csv'\n",
    "test.write_submission(submission_file)\n",
    "\n"
   ]
  },
  {
   "cell_type": "code",
   "execution_count": null,
   "metadata": {},
   "outputs": [],
   "source": [
    "\n",
    "##########\n",
    "# scores #\n",
    "##########\n",
    "print('Scores for first test image:')\n",
    "#unlabeled IOU\n",
    "print('IoU: {}'.format(Images.iou(val.masks[0] > 0, unlab_pred[0]>0.5)))\n",
    "#labled IOUs per nucleus\n",
    "print('IoU per nucleus: {}'.format(Images.iou(val.masks[0], val.pred[0])))\n",
    "#mean IOU\n",
    "print('mean IoU: {}'.format(np.mean(Images.iou(val.masks[0], val.pred[0]))))\n",
    "# fraction of nuclei > th\n",
    "print('fraction of nuclei has IoU > 0.5: {}'.format(Images.iou_score(val.masks[0], val.pred[0], th=[.5])))\n",
    "print('fraction of nuclei has IoU > 0.95: {}'.format(Images.iou_score(val.masks[0], val.pred[0], th=[.95])))\n",
    "# fraction of nuclei > th average over range of thresholds\n",
    "print('IoU score (over range of thresholds): {}'.format(Images.iou_score(val.masks[0], val.pred[0])))\n",
    "\n",
    "val.show_image(0)"
   ]
  },
  {
   "cell_type": "code",
   "execution_count": null,
   "metadata": {},
   "outputs": [],
   "source": []
  }
 ],
 "metadata": {
  "kernelspec": {
   "display_name": "Python 3",
   "language": "python",
   "name": "python3"
  },
  "language_info": {
   "codemirror_mode": {
    "name": "ipython",
    "version": 3
   },
   "file_extension": ".py",
   "mimetype": "text/x-python",
   "name": "python",
   "nbconvert_exporter": "python",
   "pygments_lexer": "ipython3",
   "version": "3.6.4"
  }
 },
 "nbformat": 4,
 "nbformat_minor": 2
}
