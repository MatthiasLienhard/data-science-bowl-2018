{
 "cells": [
  {
   "cell_type": "markdown",
   "metadata": {},
   "source": [
    "# General workflow\n",
    "This workflow is a starting point to demonstrate the functionality of the containers and to detect and classify difficult cases"
   ]
  },
  {
   "cell_type": "code",
   "execution_count": 1,
   "metadata": {},
   "outputs": [
    {
     "name": "stderr",
     "output_type": "stream",
     "text": [
      "/home/lienhard/.local/lib/python3.6/site-packages/h5py/__init__.py:36: FutureWarning: Conversion of the second argument of issubdtype from `float` to `np.floating` is deprecated. In future, it will be treated as `np.float64 == np.dtype(float).type`.\n",
      "  from ._conv import register_converters as _register_converters\n",
      "Using TensorFlow backend.\n"
     ]
    }
   ],
   "source": [
    "\n",
    "import numpy as np\n",
    "import pandas as pd\n",
    "import skimage\n",
    "import Images\n",
    "import ModelUNet_rep\n"
   ]
  },
  {
   "cell_type": "code",
   "execution_count": 2,
   "metadata": {},
   "outputs": [
    {
     "name": "stdout",
     "output_type": "stream",
     "text": [
      "the model will be called 'unet_boundaries_256x256'\n"
     ]
    }
   ],
   "source": [
    "#some definitions\n",
    "debug=False #perform on a subset --> faster\n",
    "model_shape=(256,256,3) #works with shape (2^x, 2^x) only?\n",
    "model_name='unet_boundaries_{}x{}'.format(model_shape[0],model_shape[1])\n",
    "if debug:\n",
    "    model_name += '_debug'\n",
    "\n",
    "print('the model will be called \\''+model_name+'\\'')\n"
   ]
  },
  {
   "cell_type": "markdown",
   "metadata": {},
   "source": [
    "## Training\n",
    "* load training data\n",
    "* train the model (if not yet done)\n",
    "* "
   ]
  },
  {
   "cell_type": "code",
   "execution_count": null,
   "metadata": {},
   "outputs": [
    {
     "name": "stderr",
     "output_type": "stream",
     "text": [
      "100%|██████████| 603/603 [00:05<00:00, 109.76it/s]\n",
      "100%|██████████| 603/603 [01:45<00:00,  5.69it/s]\n"
     ]
    },
    {
     "data": {
      "text/html": [
       "<div>\n",
       "<style scoped>\n",
       "    .dataframe tbody tr th:only-of-type {\n",
       "        vertical-align: middle;\n",
       "    }\n",
       "\n",
       "    .dataframe tbody tr th {\n",
       "        vertical-align: top;\n",
       "    }\n",
       "\n",
       "    .dataframe thead th {\n",
       "        text-align: right;\n",
       "    }\n",
       "</style>\n",
       "<table border=\"1\" class=\"dataframe\">\n",
       "  <thead>\n",
       "    <tr style=\"text-align: right;\">\n",
       "      <th></th>\n",
       "      <th>ids</th>\n",
       "      <th>size_x</th>\n",
       "      <th>size_y</th>\n",
       "      <th>n_channels</th>\n",
       "      <th>nuclei_n</th>\n",
       "      <th>nuclei_meanSz</th>\n",
       "      <th>nuclei_stdSz</th>\n",
       "      <th>nuclei_minSz</th>\n",
       "      <th>nuclei_maxSz</th>\n",
       "    </tr>\n",
       "  </thead>\n",
       "  <tbody>\n",
       "    <tr>\n",
       "      <th>0</th>\n",
       "      <td>00071198d059ba7f5914a526d124d28e6d010c92466da2...</td>\n",
       "      <td>256</td>\n",
       "      <td>256</td>\n",
       "      <td>1</td>\n",
       "      <td>27</td>\n",
       "      <td>211</td>\n",
       "      <td>132</td>\n",
       "      <td>21</td>\n",
       "      <td>460</td>\n",
       "    </tr>\n",
       "    <tr>\n",
       "      <th>1</th>\n",
       "      <td>003cee89357d9fe13516167fd67b609a164651b2193458...</td>\n",
       "      <td>256</td>\n",
       "      <td>256</td>\n",
       "      <td>1</td>\n",
       "      <td>36</td>\n",
       "      <td>131</td>\n",
       "      <td>37</td>\n",
       "      <td>35</td>\n",
       "      <td>276</td>\n",
       "    </tr>\n",
       "    <tr>\n",
       "      <th>2</th>\n",
       "      <td>00ae65c1c6631ae6f2be1a449902976e6eb8483bf6b074...</td>\n",
       "      <td>256</td>\n",
       "      <td>320</td>\n",
       "      <td>3</td>\n",
       "      <td>70</td>\n",
       "      <td>419</td>\n",
       "      <td>208</td>\n",
       "      <td>56</td>\n",
       "      <td>1067</td>\n",
       "    </tr>\n",
       "    <tr>\n",
       "      <th>3</th>\n",
       "      <td>0121d6759c5adb290c8e828fc882f37dfaf3663ec885c6...</td>\n",
       "      <td>256</td>\n",
       "      <td>320</td>\n",
       "      <td>3</td>\n",
       "      <td>86</td>\n",
       "      <td>168</td>\n",
       "      <td>151</td>\n",
       "      <td>22</td>\n",
       "      <td>752</td>\n",
       "    </tr>\n",
       "    <tr>\n",
       "      <th>4</th>\n",
       "      <td>01d44a26f6680c42ba94c9bc6339228579a95d0e2695b1...</td>\n",
       "      <td>256</td>\n",
       "      <td>320</td>\n",
       "      <td>3</td>\n",
       "      <td>7</td>\n",
       "      <td>813</td>\n",
       "      <td>402</td>\n",
       "      <td>152</td>\n",
       "      <td>1563</td>\n",
       "    </tr>\n",
       "  </tbody>\n",
       "</table>\n",
       "</div>"
      ],
      "text/plain": [
       "                                                 ids  size_x  size_y  \\\n",
       "0  00071198d059ba7f5914a526d124d28e6d010c92466da2...     256     256   \n",
       "1  003cee89357d9fe13516167fd67b609a164651b2193458...     256     256   \n",
       "2  00ae65c1c6631ae6f2be1a449902976e6eb8483bf6b074...     256     320   \n",
       "3  0121d6759c5adb290c8e828fc882f37dfaf3663ec885c6...     256     320   \n",
       "4  01d44a26f6680c42ba94c9bc6339228579a95d0e2695b1...     256     320   \n",
       "\n",
       "   n_channels  nuclei_n  nuclei_meanSz  nuclei_stdSz  nuclei_minSz  \\\n",
       "0           1        27            211           132            21   \n",
       "1           1        36            131            37            35   \n",
       "2           3        70            419           208            56   \n",
       "3           3        86            168           151            22   \n",
       "4           3         7            813           402           152   \n",
       "\n",
       "   nuclei_maxSz  \n",
       "0           460  \n",
       "1           276  \n",
       "2          1067  \n",
       "3           752  \n",
       "4          1563  "
      ]
     },
     "execution_count": 3,
     "metadata": {},
     "output_type": "execute_result"
    }
   ],
   "source": [
    "train=Images.Images(\"../input/stage1_train\")\n",
    "if debug:\n",
    "    #subselect, to make it faster \n",
    "    train=train.subset(idx=range(20))\n",
    "    #todo: overload [] to get this\n",
    "\n",
    "#we want to learn the boundaries\n",
    "masks=train.masks\n",
    "train.masks=train.mask_boundaries\n",
    "\n",
    "#set aside 10% for validation\n",
    "val=train.subset(np.arange(train.n()*.9, train.n()))\n",
    "train=train.subset(np.arange(train.n()*.9,))\n",
    "\n",
    "#load the image files (in original size)    \n",
    "train.load_images()\n",
    "train.load_masks()\n",
    "train.features.head()    \n",
    "\n"
   ]
  },
  {
   "cell_type": "code",
   "execution_count": null,
   "metadata": {},
   "outputs": [
    {
     "name": "stdout",
     "output_type": "stream",
     "text": [
      "Train on 542 samples, validate on 61 samples\n",
      "Epoch 1/50\n",
      "496/542 [==========================>...] - ETA: 22s - loss: 0.7171 - mean_iou: 0.4184"
     ]
    }
   ],
   "source": [
    "# initialize and train the model \n",
    "# to detect unlabled masks (e.g. the forground vs background)\n",
    "\n",
    "\n",
    "m_file=model_name+'.h5'\n",
    "\n",
    "model=ModelUNet_rep.ModelUNet(m_file=m_file, shape=(256,256,3))\n",
    "#question: should the model design be adapted according to image dimensions?\n",
    "if not model.trained:\n",
    "    model.fit_model(train)\n"
   ]
  },
  {
   "cell_type": "code",
   "execution_count": null,
   "metadata": {},
   "outputs": [],
   "source": [
    "\n",
    "#unlabled prediction (probability of pixle belonging to forground) \n",
    "#scaled to the dimensions of the model (e.g. 256x256)\n",
    "print('making predictions...')\n",
    "scaled_pred=model.predict_unlabeld(train)\n",
    "\n",
    "\n",
    "print('rescale probability vector...')\n",
    "# rescaling performs anti-aliasing, which can disturb lable masks\n",
    "# it cannot be swhiched of for my version of skimage 0.13.1, only with dev0.14\n",
    "print(\"skimage version: {}\".format(skimage.__version__))\n",
    "# for the probability vector antialiasing should be rather beneficial\n",
    "unlab_pred=train.rescale(scaled_pred, scale=None, dtype=np.float32, mode='reflect')\n",
    "\n",
    "print('labeling predinctions...')\n",
    "pred=model.label(unlab_pred, th=0.5) #this function should also use the images\n",
    "#add labled predictions to container\n",
    "train.add_pred(pred)\n",
    "# this adds iou scores to train.features\n",
    "print( train.features.drop(['ids'], axis=1).head() ) \n",
    "print(\"expected LB score(train): {}\".format(np.mean(train.features['iou_score'])))\n",
    "\n",
    "train.show_image()"
   ]
  },
  {
   "cell_type": "code",
   "execution_count": null,
   "metadata": {},
   "outputs": [],
   "source": [
    "#same on validation data\n",
    "val.load_images()\n",
    "val.load_masks()\n",
    "print('making predictions...')\n",
    "scaled_pred=model.predict_unlabeld(val)\n",
    "print('rescale probability vector...')\n",
    "unlab_pred=val.rescale(scaled_pred, scale=None, dtype=np.float32, mode='reflect')\n",
    "print('labeling predinctions...')\n",
    "pred=model.label(unlab_pred, th=0.5) \n",
    "val.add_pred(pred)\n",
    "val.features.drop(['ids'], axis=1).head()\n",
    "print(\"expected LB score(val): {}\".format(np.mean(val.features['iou_score'])))\n",
    "val.show_image()"
   ]
  },
  {
   "cell_type": "markdown",
   "metadata": {},
   "source": [
    "## Prediction (on test data)\n",
    "* load test data\n",
    "* use model to predict masks\n",
    "* prepare submission file"
   ]
  },
  {
   "cell_type": "code",
   "execution_count": null,
   "metadata": {},
   "outputs": [],
   "source": [
    "test=Images.Images(\"../input/stage1_test\")\n",
    "\n",
    "#load the image files (in original size)    \n",
    "test.load_images()\n",
    "\n",
    "test.features.head()    \n"
   ]
  },
  {
   "cell_type": "code",
   "execution_count": null,
   "metadata": {},
   "outputs": [],
   "source": [
    "print('making predictions...')\n",
    "scaled_pred=model.predict_unlabeld(test)\n",
    "\n",
    "\n",
    "print('rescale probability vector...')\n",
    "unlab_pred=test.rescale(scaled_pred, scale=None, dtype=np.float32, mode='reflect')\n",
    "\n",
    "print('labeling predinctions...')\n",
    "pred=model.label(unlab_pred, th=0.5)\n",
    "test.add_pred(pred)\n"
   ]
  },
  {
   "cell_type": "code",
   "execution_count": null,
   "metadata": {},
   "outputs": [],
   "source": [
    "submission_file='submission' + model_name + '.csv'\n",
    "test.write_submission(submission_file)\n",
    "\n"
   ]
  },
  {
   "cell_type": "code",
   "execution_count": null,
   "metadata": {},
   "outputs": [],
   "source": [
    "\n",
    "##########\n",
    "# scores #\n",
    "##########\n",
    "print('Scores for first test image:')\n",
    "#unlabeled IOU\n",
    "print('unlabeled IoU: {}'.format(Images.iou(val.masks[0] > 0, unlab_pred[0]>0.5)))\n",
    "#labled IOUs per nucleus\n",
    "print('unlabeled IoU per nucleus: {}'.format(Images.iou(val.masks[0], val.pred[0])))\n",
    "#mean IOU\n",
    "print('mean IoU: {}'.format(np.mean(Images.iou(val.masks[0], val.pred[0]))))\n",
    "# fraction of nuclei > th\n",
    "print('fraction of nuclei has IoU > 0.5: {}'.format(Images.iou_score(val.masks[0], val.pred[0], th=[.5])))\n",
    "print('fraction of nuclei has IoU > 0.95: {}'.format(Images.iou_score(val.masks[0], val.pred[0], th=[.95])))\n",
    "# fraction of nuclei > th average over range of thresholds\n",
    "print('IoU score (over range of thresholds): {}'.format(Images.iou_score(val.masks[0], val.pred[0])))\n",
    "\n",
    "val.show_image(0)"
   ]
  },
  {
   "cell_type": "code",
   "execution_count": null,
   "metadata": {},
   "outputs": [],
   "source": []
  }
 ],
 "metadata": {
  "kernelspec": {
   "display_name": "Python 3",
   "language": "python",
   "name": "python3"
  },
  "language_info": {
   "codemirror_mode": {
    "name": "ipython",
    "version": 3
   },
   "file_extension": ".py",
   "mimetype": "text/x-python",
   "name": "python",
   "nbconvert_exporter": "python",
   "pygments_lexer": "ipython3",
   "version": "3.6.4"
  }
 },
 "nbformat": 4,
 "nbformat_minor": 2
}
