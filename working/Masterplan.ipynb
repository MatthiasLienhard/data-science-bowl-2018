{
 "cells": [
  {
   "cell_type": "markdown",
   "metadata": {},
   "source": [
    "# Nuclei Image Recognicion\n",
    "\n",
    "## Data type Conversions\n",
    "* images\n",
    "    * numpy array[n,x,y,3], dtype=uint8\n",
    "    * n images of dim x\\*y pixels, 3 color intensities\n",
    "* masks\n",
    "    * numpy array[n,x,y], dtype=bool\n",
    "    * False = Background, True = nuclei\n",
    "* labeled masks\n",
    "    * numpy array[n,x,y], dtype=uint8 \n",
    "    * 0= background\n",
    "    * 1, 2, 3, ... different nuclei\n",
    "    \n",
    "## OOP?\n",
    "* data container class\n",
    "    * get_images(): images\n",
    "    * get_images_featrues(): data frame\n",
    "    * get_truth(): masks\n",
    "    * get_truth_labeled(): labled mask\n",
    "    * get_pred(): masks()\n",
    "    * get_pred_labeled(): masks()\n",
    "    * write_submission(\"filename\")\n",
    "* model class?\n",
    "    * Basti: prototype?\n",
    "    * __init__ -> set parameters\n",
    "    * fit(images, masks)\n",
    "    * predict(images)\n",
    "    \n",
    "    \n",
    "## Functions to be implemented:\n",
    "* read_images(path) \n",
    "    * returns images and vector storing original size\n",
    "    * all in same format\n",
    "* read_masks(path)\n",
    "    * returns masks\n",
    "* read_labled_masks(path)\n",
    "    * returns labeled masks\n",
    "* classify_images(images)\n",
    "    * returns data frame with image features\n",
    "        * type: e.g. colored vs grayscale, different stainings\n",
    "        * avg/min/max/sd nucleus size\n",
    "        * heigth/width\n",
    "        * number of touching nuclei\n",
    "        * ...\n",
    "* get_iou(truth, prediction)\n",
    "    * unlabled masks\n",
    "        * returns array of iou scores\n",
    "    * labled masks\n",
    "        * returns array of iou score lists (one per nucleus in truth)\n",
    "* get_score(truth,predictions, th=None)\n",
    "    * only on labled masks\n",
    "    * if th is in [.5,1]:\n",
    "        * returns array of fraction of recognized nuclei per image at threshold th\n",
    "    * else \n",
    "        * array with average fraction of recognized nuclei per image at all thresholds np.arange(0.5,0.95,0.05)\n",
    "        * the average over all image should correspond to the score used by kaggle\n",
    "* show_image(images, masks, labled_masks, idx)\n",
    "    * sanity check function (e.g. plot the three images) but also print score, rank, image classification, other features\n",
    "    * idx can be \"random\", \"worst\", \"bad\", \"average\", \"good\",\"best\"\n",
    "        \n",
    "    \n",
    "    "
   ]
  },
  {
   "cell_type": "code",
   "execution_count": 1,
   "metadata": {},
   "outputs": [
    {
     "ename": "TypeError",
     "evalue": "'float' object cannot be interpreted as an integer",
     "output_type": "error",
     "traceback": [
      "\u001b[0;31m---------------------------------------------------------------------------\u001b[0m",
      "\u001b[0;31mTypeError\u001b[0m                                 Traceback (most recent call last)",
      "\u001b[0;32m<ipython-input-1-df6fdd0e565e>\u001b[0m in \u001b[0;36m<module>\u001b[0;34m()\u001b[0m\n\u001b[0;32m----> 1\u001b[0;31m \u001b[0mrange\u001b[0m\u001b[0;34m(\u001b[0m\u001b[0;36m0.5\u001b[0m\u001b[0;34m,\u001b[0m\u001b[0;36m0.95\u001b[0m\u001b[0;34m,\u001b[0m\u001b[0;36m0.05\u001b[0m\u001b[0;34m)\u001b[0m\u001b[0;34m\u001b[0m\u001b[0m\n\u001b[0m",
      "\u001b[0;31mTypeError\u001b[0m: 'float' object cannot be interpreted as an integer"
     ]
    }
   ],
   "source": []
  },
  {
   "cell_type": "code",
   "execution_count": null,
   "metadata": {},
   "outputs": [],
   "source": []
  }
 ],
 "metadata": {
  "kernelspec": {
   "display_name": "Python 3",
   "language": "python",
   "name": "python3"
  },
  "language_info": {
   "codemirror_mode": {
    "name": "ipython",
    "version": 3
   },
   "file_extension": ".py",
   "mimetype": "text/x-python",
   "name": "python",
   "nbconvert_exporter": "python",
   "pygments_lexer": "ipython3",
   "version": "3.6.4"
  }
 },
 "nbformat": 4,
 "nbformat_minor": 2
}
