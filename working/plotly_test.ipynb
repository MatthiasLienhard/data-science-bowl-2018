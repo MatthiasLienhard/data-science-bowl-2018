{
 "cells": [
  {
   "cell_type": "code",
   "execution_count": 1,
   "metadata": {},
   "outputs": [
    {
     "name": "stderr",
     "output_type": "stream",
     "text": [
      "/home/lienhard/.local/lib/python3.6/site-packages/h5py/__init__.py:36: FutureWarning:\n",
      "\n",
      "Conversion of the second argument of issubdtype from `float` to `np.floating` is deprecated. In future, it will be treated as `np.float64 == np.dtype(float).type`.\n",
      "\n",
      "Using TensorFlow backend.\n"
     ]
    }
   ],
   "source": [
    "import plotly.plotly as py\n",
    "from plotly.offline import download_plotlyjs, init_notebook_mode, plot,iplot\n",
    "import plotly.tools\n",
    "import plotly.graph_objs as go\n",
    "import numpy as np\n",
    "import pandas as pd\n",
    "import skimage\n",
    "import Images\n",
    "import ModelUNet_rep\n",
    "import ModelUNet_v2 #version 2 learns areas and boundaries of nuclei\n",
    "import matplotlib.pyplot as plt\n",
    "\n",
    "import copy\n"
   ]
  },
  {
   "cell_type": "code",
   "execution_count": 31,
   "metadata": {},
   "outputs": [],
   "source": [
    "train=Images.Images(\"../input/stage1_train\")\n",
    "\n",
    "#set aside 10% for validation\n",
    "val1=train.subset(np.arange(train.n()*.9, train.n()))\n",
    "train=train.subset(np.arange(train.n()*.9,))\n",
    "\n",
    "model2=ModelUNet_v2.ModelUNet(name='unet_256x256_xent_v2')\n",
    "model1=ModelUNet_rep.ModelUNet(name='unet_v1_256x256')\n",
    "\n"
   ]
  },
  {
   "cell_type": "code",
   "execution_count": 32,
   "metadata": {},
   "outputs": [
    {
     "name": "stderr",
     "output_type": "stream",
     "text": [
      "100%|██████████| 67/67 [00:00<00:00, 141.93it/s]\n",
      "100%|██████████| 67/67 [00:09<00:00,  7.27it/s]\n"
     ]
    },
    {
     "name": "stdout",
     "output_type": "stream",
     "text": [
      "predicting foreground...\n",
      "labeling predictions...\n"
     ]
    },
    {
     "name": "stderr",
     "output_type": "stream",
     "text": [
      "/home/lienhard/.local/lib/python3.6/site-packages/skimage/segmentation/_join.py:118: FutureWarning:\n",
      "\n",
      "Conversion of the second argument of issubdtype from `int` to `np.signedinteger` is deprecated. In future, it will be treated as `np.int64 == np.dtype(int).type`.\n",
      "\n",
      "  0%|          | 0/67 [00:00<?, ?it/s]"
     ]
    },
    {
     "name": "stdout",
     "output_type": "stream",
     "text": [
      "computing scores... \n"
     ]
    },
    {
     "name": "stderr",
     "output_type": "stream",
     "text": [
      "100%|██████████| 67/67 [00:17<00:00,  3.85it/s]\n"
     ]
    },
    {
     "name": "stdout",
     "output_type": "stream",
     "text": [
      "expected LB score of v1 (val): 0.3857374596977727\n",
      "predicting area...\n",
      "predicting boundaries...\n"
     ]
    },
    {
     "name": "stderr",
     "output_type": "stream",
     "text": [
      "  0%|          | 0/67 [00:00<?, ?it/s]/home/lienhard/.local/lib/python3.6/site-packages/skimage/morphology/extrema.py:111: FutureWarning:\n",
      "\n",
      "Conversion of the second argument of issubdtype from `'half'` to `np.floating` is deprecated. In future, it will be treated as `np.float16 == np.dtype('half').type`.\n",
      "\n",
      "  4%|▍         | 3/67 [00:00<00:02, 22.92it/s]"
     ]
    },
    {
     "name": "stdout",
     "output_type": "stream",
     "text": [
      "labeling predictions...\n"
     ]
    },
    {
     "name": "stderr",
     "output_type": "stream",
     "text": [
      "100%|██████████| 67/67 [00:03<00:00, 19.51it/s]\n",
      "  0%|          | 0/67 [00:00<?, ?it/s]"
     ]
    },
    {
     "name": "stdout",
     "output_type": "stream",
     "text": [
      "computing scores... \n"
     ]
    },
    {
     "name": "stderr",
     "output_type": "stream",
     "text": [
      "100%|██████████| 67/67 [00:16<00:00,  4.13it/s]"
     ]
    },
    {
     "name": "stdout",
     "output_type": "stream",
     "text": [
      "expected LB score(val): 0.46328323712665526\n"
     ]
    },
    {
     "name": "stderr",
     "output_type": "stream",
     "text": [
      "\n"
     ]
    }
   ],
   "source": [
    "val1.load_images()\n",
    "val1.load_masks()\n",
    "val2=copy.deepcopy(val1)\n",
    "\n",
    "val1.add_predictions(model1)\n",
    "print(\"expected LB score of v1 (val): {}\".format(np.mean(val1.features['iou_score'])))\n",
    "\n",
    "val2.add_predictions(model2,boundary_height=0.06)\n",
    "val2.features.drop(['ids'], axis=1).head()\n",
    "print(\"expected LB score(val): {}\".format(np.mean(val2.features['iou_score'])))\n",
    "#somehow its mutch worse than that..."
   ]
  },
  {
   "cell_type": "code",
   "execution_count": 42,
   "metadata": {},
   "outputs": [
    {
     "data": {
      "text/html": [
       "<div>\n",
       "<style scoped>\n",
       "    .dataframe tbody tr th:only-of-type {\n",
       "        vertical-align: middle;\n",
       "    }\n",
       "\n",
       "    .dataframe tbody tr th {\n",
       "        vertical-align: top;\n",
       "    }\n",
       "\n",
       "    .dataframe thead th {\n",
       "        text-align: right;\n",
       "    }\n",
       "</style>\n",
       "<table border=\"1\" class=\"dataframe\">\n",
       "  <thead>\n",
       "    <tr style=\"text-align: right;\">\n",
       "      <th></th>\n",
       "      <th>ids_v1</th>\n",
       "      <th>size_x_v1</th>\n",
       "      <th>size_y_v1</th>\n",
       "      <th>n_channels_v1</th>\n",
       "      <th>nuclei_n_v1</th>\n",
       "      <th>nuclei_meanSz_v1</th>\n",
       "      <th>nuclei_stdSz_v1</th>\n",
       "      <th>nuclei_minSz_v1</th>\n",
       "      <th>nuclei_maxSz_v1</th>\n",
       "      <th>n_pred_v1</th>\n",
       "      <th>...</th>\n",
       "      <th>iou_th60_v2</th>\n",
       "      <th>iou_th65_v2</th>\n",
       "      <th>iou_th70_v2</th>\n",
       "      <th>iou_th75_v2</th>\n",
       "      <th>iou_th80_v2</th>\n",
       "      <th>iou_th85_v2</th>\n",
       "      <th>iou_th90_v2</th>\n",
       "      <th>iou_th95_v2</th>\n",
       "      <th>n</th>\n",
       "      <th>description</th>\n",
       "    </tr>\n",
       "  </thead>\n",
       "  <tbody>\n",
       "    <tr>\n",
       "      <th>0</th>\n",
       "      <td>e5f8ad0f0a43af8ca57e31e16800108abdfb44a7e962a7...</td>\n",
       "      <td>256</td>\n",
       "      <td>256</td>\n",
       "      <td>1</td>\n",
       "      <td>6</td>\n",
       "      <td>198</td>\n",
       "      <td>72</td>\n",
       "      <td>85</td>\n",
       "      <td>282</td>\n",
       "      <td>6.0</td>\n",
       "      <td>...</td>\n",
       "      <td>1.000000</td>\n",
       "      <td>1.000000</td>\n",
       "      <td>1.000000</td>\n",
       "      <td>1.000000</td>\n",
       "      <td>0.333333</td>\n",
       "      <td>0.090909</td>\n",
       "      <td>0.000000</td>\n",
       "      <td>0.0</td>\n",
       "      <td>0</td>\n",
       "      <td>IOU(v2: 0.6424242424242423&lt;br&gt;ID: 0</td>\n",
       "    </tr>\n",
       "    <tr>\n",
       "      <th>1</th>\n",
       "      <td>e66a97b2c77f3d66a7d3cebbc6a36c8c6259368a397f7b...</td>\n",
       "      <td>256</td>\n",
       "      <td>256</td>\n",
       "      <td>1</td>\n",
       "      <td>11</td>\n",
       "      <td>179</td>\n",
       "      <td>91</td>\n",
       "      <td>21</td>\n",
       "      <td>347</td>\n",
       "      <td>10.0</td>\n",
       "      <td>...</td>\n",
       "      <td>0.833333</td>\n",
       "      <td>0.833333</td>\n",
       "      <td>0.692308</td>\n",
       "      <td>0.692308</td>\n",
       "      <td>0.571429</td>\n",
       "      <td>0.222222</td>\n",
       "      <td>0.047619</td>\n",
       "      <td>0.0</td>\n",
       "      <td>1</td>\n",
       "      <td>IOU(v2: 0.555921855921856&lt;br&gt;ID: 1</td>\n",
       "    </tr>\n",
       "    <tr>\n",
       "      <th>2</th>\n",
       "      <td>e66f25e175abab08ecb4e5f6859db64a211e0ddffb262d...</td>\n",
       "      <td>256</td>\n",
       "      <td>256</td>\n",
       "      <td>1</td>\n",
       "      <td>11</td>\n",
       "      <td>144</td>\n",
       "      <td>66</td>\n",
       "      <td>48</td>\n",
       "      <td>259</td>\n",
       "      <td>11.0</td>\n",
       "      <td>...</td>\n",
       "      <td>1.000000</td>\n",
       "      <td>0.833333</td>\n",
       "      <td>0.833333</td>\n",
       "      <td>0.571429</td>\n",
       "      <td>0.222222</td>\n",
       "      <td>0.047619</td>\n",
       "      <td>0.047619</td>\n",
       "      <td>0.0</td>\n",
       "      <td>2</td>\n",
       "      <td>IOU(v2: 0.5555555555555556&lt;br&gt;ID: 2</td>\n",
       "    </tr>\n",
       "    <tr>\n",
       "      <th>3</th>\n",
       "      <td>e7a3a7c99483c243742b6cfa74e81cd48f126dcef00401...</td>\n",
       "      <td>520</td>\n",
       "      <td>696</td>\n",
       "      <td>1</td>\n",
       "      <td>150</td>\n",
       "      <td>564</td>\n",
       "      <td>183</td>\n",
       "      <td>40</td>\n",
       "      <td>1071</td>\n",
       "      <td>110.0</td>\n",
       "      <td>...</td>\n",
       "      <td>0.863354</td>\n",
       "      <td>0.863354</td>\n",
       "      <td>0.829268</td>\n",
       "      <td>0.754386</td>\n",
       "      <td>0.612903</td>\n",
       "      <td>0.276596</td>\n",
       "      <td>0.027397</td>\n",
       "      <td>0.0</td>\n",
       "      <td>3</td>\n",
       "      <td>IOU(v2: 0.6012785192936023&lt;br&gt;ID: 3</td>\n",
       "    </tr>\n",
       "    <tr>\n",
       "      <th>4</th>\n",
       "      <td>e81c758e1ca177b0942ecad62cf8d321ffc315376135bc...</td>\n",
       "      <td>256</td>\n",
       "      <td>256</td>\n",
       "      <td>1</td>\n",
       "      <td>47</td>\n",
       "      <td>442</td>\n",
       "      <td>340</td>\n",
       "      <td>27</td>\n",
       "      <td>1932</td>\n",
       "      <td>43.0</td>\n",
       "      <td>...</td>\n",
       "      <td>0.468750</td>\n",
       "      <td>0.362319</td>\n",
       "      <td>0.270270</td>\n",
       "      <td>0.205128</td>\n",
       "      <td>0.119048</td>\n",
       "      <td>0.068182</td>\n",
       "      <td>0.032967</td>\n",
       "      <td>0.0</td>\n",
       "      <td>4</td>\n",
       "      <td>IOU(v2: 0.2609459485099387&lt;br&gt;ID: 4</td>\n",
       "    </tr>\n",
       "  </tbody>\n",
       "</table>\n",
       "<p>5 rows × 48 columns</p>\n",
       "</div>"
      ],
      "text/plain": [
       "                                              ids_v1  size_x_v1  size_y_v1  \\\n",
       "0  e5f8ad0f0a43af8ca57e31e16800108abdfb44a7e962a7...        256        256   \n",
       "1  e66a97b2c77f3d66a7d3cebbc6a36c8c6259368a397f7b...        256        256   \n",
       "2  e66f25e175abab08ecb4e5f6859db64a211e0ddffb262d...        256        256   \n",
       "3  e7a3a7c99483c243742b6cfa74e81cd48f126dcef00401...        520        696   \n",
       "4  e81c758e1ca177b0942ecad62cf8d321ffc315376135bc...        256        256   \n",
       "\n",
       "   n_channels_v1  nuclei_n_v1  nuclei_meanSz_v1  nuclei_stdSz_v1  \\\n",
       "0              1            6               198               72   \n",
       "1              1           11               179               91   \n",
       "2              1           11               144               66   \n",
       "3              1          150               564              183   \n",
       "4              1           47               442              340   \n",
       "\n",
       "   nuclei_minSz_v1  nuclei_maxSz_v1  n_pred_v1  \\\n",
       "0               85              282        6.0   \n",
       "1               21              347       10.0   \n",
       "2               48              259       11.0   \n",
       "3               40             1071      110.0   \n",
       "4               27             1932       43.0   \n",
       "\n",
       "                  ...                   iou_th60_v2  iou_th65_v2  iou_th70_v2  \\\n",
       "0                 ...                      1.000000     1.000000     1.000000   \n",
       "1                 ...                      0.833333     0.833333     0.692308   \n",
       "2                 ...                      1.000000     0.833333     0.833333   \n",
       "3                 ...                      0.863354     0.863354     0.829268   \n",
       "4                 ...                      0.468750     0.362319     0.270270   \n",
       "\n",
       "   iou_th75_v2  iou_th80_v2  iou_th85_v2  iou_th90_v2  iou_th95_v2  n  \\\n",
       "0     1.000000     0.333333     0.090909     0.000000          0.0  0   \n",
       "1     0.692308     0.571429     0.222222     0.047619          0.0  1   \n",
       "2     0.571429     0.222222     0.047619     0.047619          0.0  2   \n",
       "3     0.754386     0.612903     0.276596     0.027397          0.0  3   \n",
       "4     0.205128     0.119048     0.068182     0.032967          0.0  4   \n",
       "\n",
       "                           description  \n",
       "0  IOU(v2: 0.6424242424242423<br>ID: 0  \n",
       "1   IOU(v2: 0.555921855921856<br>ID: 1  \n",
       "2  IOU(v2: 0.5555555555555556<br>ID: 2  \n",
       "3  IOU(v2: 0.6012785192936023<br>ID: 3  \n",
       "4  IOU(v2: 0.2609459485099387<br>ID: 4  \n",
       "\n",
       "[5 rows x 48 columns]"
      ]
     },
     "execution_count": 42,
     "metadata": {},
     "output_type": "execute_result"
    }
   ],
   "source": [
    "df1=val1.features.add_suffix(\"_v1\")\n",
    "df2=val2.features.add_suffix(\"_v2\")\n",
    "\n",
    "df=pd.concat([df1,df2], axis=1)\n",
    "df['n']=df.index\n",
    "df['description']=pd.Series(\"IOU(v2: \" + (df.iou_score_v2).astype(str)+\"<br>ID: \" + (df.n).astype(str))\n",
    "df_bw=df[(df.n_channels_v1==1)]\n",
    "df_col=df[(df.n_channels_v1==3)]\n",
    "df.head()"
   ]
  },
  {
   "cell_type": "code",
   "execution_count": null,
   "metadata": {},
   "outputs": [],
   "source": []
  },
  {
   "cell_type": "code",
   "execution_count": 36,
   "metadata": {},
   "outputs": [
    {
     "data": {
      "text/plain": [
       "'file:///project/42/lienhard/github/kaggle/data-science-bowl-2018/working/temp-plot.html'"
      ]
     },
     "execution_count": 36,
     "metadata": {},
     "output_type": "execute_result"
    }
   ],
   "source": [
    "trace_bw=go.Scatter(x=df_bw.nuclei_n_v1, y=df_bw.n_pred_v1, mode='markers', marker=dict(size=12, line=dict(width=1), color=\"black\"),\n",
    "                    name=\"grayscale\", text=df_bw.description,)\n",
    "trace_col=go.Scatter(x=df_col.nuclei_n_v1, y=df_col.n_pred_v1, mode='markers', marker=dict(size=12, line=dict(width=1), color=\"red\"),\n",
    "                    name=\"color\", text=df_col.description,)\n",
    "data=[trace_bw, trace_col]\n",
    "layout=go.Layout(title=\"number of nuclei / image\", hovermode=\"closest\",\n",
    "                xaxis=dict(title=\"# truth\", ticklen=5, zeroline=False, gridwidth=2),\n",
    "                yaxis=dict(title=\"# prediction\", ticklen=5,  gridwidth=2),)\n",
    "fig=go.Figure(data=data, layout=layout)\n",
    "plot(fig, show_link=False)"
   ]
  },
  {
   "cell_type": "code",
   "execution_count": 43,
   "metadata": {},
   "outputs": [
    {
     "data": {
      "text/plain": [
       "'file:///project/42/lienhard/github/kaggle/data-science-bowl-2018/working/temp-plot.html'"
      ]
     },
     "execution_count": 43,
     "metadata": {},
     "output_type": "execute_result"
    }
   ],
   "source": [
    "trace_bw=go.Scatter(x=df_bw.nuclei_n_v2, y=df_bw.iou_score_v2, mode='markers', marker=dict(size=12, line=dict(width=1), color=\"black\"),\n",
    "                    name=\"grayscale\", text=df_bw.description,)\n",
    "trace_col=go.Scatter(x=df_col.nuclei_n_v2, y=df_col.iou_score_v2, mode='markers', marker=dict(size=12, line=dict(width=1), color=\"red\"),\n",
    "                    name=\"color\", text=df_col.description,)\n",
    "data=[trace_bw, trace_col]\n",
    "layout=go.Layout(title=\"number of nuclei / image\", hovermode=\"closest\",\n",
    "                xaxis=dict(title=\"# truth\", ticklen=5, zeroline=False, gridwidth=2),\n",
    "                yaxis=dict(title=\"score\", ticklen=5,  gridwidth=2),)\n",
    "fig=go.Figure(data=data, layout=layout)\n",
    "plot(fig, show_link=False)\n",
    "#1) the more nuclei the worse\n",
    "#2) color images are really bad"
   ]
  },
  {
   "cell_type": "code",
   "execution_count": 48,
   "metadata": {},
   "outputs": [
    {
     "data": {
      "text/plain": [
       "'file:///project/42/lienhard/github/kaggle/data-science-bowl-2018/working/temp-plot.html'"
      ]
     },
     "execution_count": 48,
     "metadata": {},
     "output_type": "execute_result"
    }
   ],
   "source": [
    "trace_bw=go.Scatter(x=df_bw.iou_score_v1, y=df_bw.iou_score_v2, mode='markers', marker=dict(size=12, line=dict(width=1), color=\"black\"),\n",
    "                    name=\"grayscale\", text=df_bw.description,)\n",
    "trace_col=go.Scatter(x=df_col.iou_score_v1, y=df_col.iou_score_v2, mode='markers', marker=dict(size=12, line=dict(width=1), color=\"red\"),\n",
    "                    name=\"color\", text=df_col.description,)\n",
    "data=[trace_bw, trace_col]\n",
    "layout=go.Layout(title=\"number of nuclei / image\", hovermode=\"closest\",\n",
    "                xaxis=dict(title=\"score v1\", ticklen=5, zeroline=False, gridwidth=2),\n",
    "                yaxis=dict(title=\"score v2\", ticklen=5,  gridwidth=2),)\n",
    "fig=go.Figure(data=data, layout=layout)\n",
    "plot(fig, show_link=False)\n"
   ]
  },
  {
   "cell_type": "code",
   "execution_count": null,
   "metadata": {},
   "outputs": [],
   "source": []
  },
  {
   "cell_type": "code",
   "execution_count": null,
   "metadata": {},
   "outputs": [],
   "source": []
  },
  {
   "cell_type": "code",
   "execution_count": null,
   "metadata": {},
   "outputs": [],
   "source": []
  },
  {
   "cell_type": "code",
   "execution_count": null,
   "metadata": {},
   "outputs": [],
   "source": []
  }
 ],
 "metadata": {
  "kernelspec": {
   "display_name": "Python 3",
   "language": "python",
   "name": "python3"
  },
  "language_info": {
   "codemirror_mode": {
    "name": "ipython",
    "version": 3
   },
   "file_extension": ".py",
   "mimetype": "text/x-python",
   "name": "python",
   "nbconvert_exporter": "python",
   "pygments_lexer": "ipython3",
   "version": "3.6.4"
  }
 },
 "nbformat": 4,
 "nbformat_minor": 2
}
