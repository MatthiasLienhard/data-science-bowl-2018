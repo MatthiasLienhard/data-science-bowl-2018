{
 "cells": [
  {
   "cell_type": "code",
   "execution_count": 1,
   "metadata": {},
   "outputs": [
    {
     "name": "stderr",
     "output_type": "stream",
     "text": [
      "/home/lienhard/.local/lib/python3.6/site-packages/h5py/__init__.py:36: FutureWarning:\n",
      "\n",
      "Conversion of the second argument of issubdtype from `float` to `np.floating` is deprecated. In future, it will be treated as `np.float64 == np.dtype(float).type`.\n",
      "\n",
      "Using TensorFlow backend.\n"
     ]
    }
   ],
   "source": [
    "import plotly.plotly as py\n",
    "from plotly.offline import download_plotlyjs, init_notebook_mode, plot,iplot\n",
    "import plotly.tools\n",
    "import plotly.graph_objs as go\n",
    "import numpy as np\n",
    "import pandas as pd\n",
    "import skimage\n",
    "import Images\n",
    "import ModelUNet_rep\n",
    "import ModelUNet_v2 #version 2 learns areas and boundaries of nuclei\n",
    "import matplotlib.pyplot as plt\n",
    "\n",
    "import copy\n"
   ]
  },
  {
   "cell_type": "code",
   "execution_count": 2,
   "metadata": {},
   "outputs": [
    {
     "name": "stdout",
     "output_type": "stream",
     "text": [
      "found area model file unet_256x256_v2_area.h5\n",
      "found boundary model file unet_256x256_v2_boundary.h5\n",
      "found model file\n"
     ]
    }
   ],
   "source": [
    "train=Images.Images(\"../input/stage1_train\")\n",
    "\n",
    "#set aside 10% for validation\n",
    "val1=train.subset(np.arange(train.n()*.9, train.n()))\n",
    "train=train.subset(np.arange(train.n()*.9,))\n",
    "\n",
    "model2=ModelUNet_v2.ModelUNet(name='unet_256x256_v2')\n",
    "model1=ModelUNet_rep.ModelUNet(name='unet_v1_256x256')\n",
    "\n"
   ]
  },
  {
   "cell_type": "code",
   "execution_count": 3,
   "metadata": {},
   "outputs": [
    {
     "name": "stderr",
     "output_type": "stream",
     "text": [
      "100%|██████████| 67/67 [00:00<00:00, 136.47it/s]\n",
      "100%|██████████| 67/67 [00:07<00:00,  8.63it/s]\n"
     ]
    },
    {
     "ename": "NameError",
     "evalue": "name 'val' is not defined",
     "output_type": "error",
     "traceback": [
      "\u001b[0;31m---------------------------------------------------------------------------\u001b[0m",
      "\u001b[0;31mNameError\u001b[0m                                 Traceback (most recent call last)",
      "\u001b[0;32m<ipython-input-3-4c71e5f5ea0b>\u001b[0m in \u001b[0;36m<module>\u001b[0;34m()\u001b[0m\n\u001b[1;32m      1\u001b[0m \u001b[0mval1\u001b[0m\u001b[0;34m.\u001b[0m\u001b[0mload_images\u001b[0m\u001b[0;34m(\u001b[0m\u001b[0;34m)\u001b[0m\u001b[0;34m\u001b[0m\u001b[0m\n\u001b[1;32m      2\u001b[0m \u001b[0mval1\u001b[0m\u001b[0;34m.\u001b[0m\u001b[0mload_masks\u001b[0m\u001b[0;34m(\u001b[0m\u001b[0;34m)\u001b[0m\u001b[0;34m\u001b[0m\u001b[0m\n\u001b[0;32m----> 3\u001b[0;31m \u001b[0mval2\u001b[0m\u001b[0;34m=\u001b[0m\u001b[0mcopy\u001b[0m\u001b[0;34m.\u001b[0m\u001b[0mdeepcopy\u001b[0m\u001b[0;34m(\u001b[0m\u001b[0mval\u001b[0m\u001b[0;34m)\u001b[0m\u001b[0;34m\u001b[0m\u001b[0m\n\u001b[0m\u001b[1;32m      4\u001b[0m \u001b[0;34m\u001b[0m\u001b[0m\n\u001b[1;32m      5\u001b[0m \u001b[0mval1\u001b[0m\u001b[0;34m.\u001b[0m\u001b[0madd_predictions\u001b[0m\u001b[0;34m(\u001b[0m\u001b[0mmodel1\u001b[0m\u001b[0;34m)\u001b[0m\u001b[0;34m\u001b[0m\u001b[0m\n",
      "\u001b[0;31mNameError\u001b[0m: name 'val' is not defined"
     ]
    }
   ],
   "source": [
    "val1.load_images()\n",
    "val1.load_masks()\n",
    "val2=copy.deepcopy(val)\n",
    "\n",
    "val1.add_predictions(model1)\n",
    "print(\"expected LB score of v1 (val): {}\".format(np.mean(val1.features['iou_score'])))\n",
    "\n",
    "val2.add_predictions(model2)\n",
    "val2.features.drop(['ids'], axis=1).head()\n",
    "print(\"expected LB score(val): {}\".format(np.mean(val2.features['iou_score'])))\n",
    "#somehow its mutch worse than that..."
   ]
  },
  {
   "cell_type": "code",
   "execution_count": null,
   "metadata": {},
   "outputs": [],
   "source": [
    "df=val.features\n",
    "df['n']=df.index\n",
    "df['description']=pd.Series(\"IOU: \" + (df.iou_score).astype(str)+\"<br>ID: \" + (df.n).astype(str))\n",
    "df_bw=df[(df.n_channels==1)]\n",
    "df_col=df[(df.n_channels==3)]\n",
    "df.head()"
   ]
  },
  {
   "cell_type": "code",
   "execution_count": null,
   "metadata": {},
   "outputs": [],
   "source": [
    "trace_bw=go.Scatter(x=df_bw.nuclei_n, y=df_bw.n_pred, mode='markers', marker=dict(size=12, line=dict(width=1), color=\"black\"),\n",
    "                    name=\"grayscale\", text=df_bw.description,)\n",
    "trace_col=go.Scatter(x=df_col.nuclei_n, y=df_col.n_pred, mode='markers', marker=dict(size=12, line=dict(width=1), color=\"red\"),\n",
    "                    name=\"color\", text=df_col.description,)\n",
    "data=[trace_bw, trace_col]\n",
    "layout=go.Layout(title=\"number of nuclei / image\", hovermode=\"closest\",\n",
    "                xaxis=dict(title=\"# truth\", ticklen=5, zeroline=False, gridwidth=2),\n",
    "                yaxis=dict(title=\"# prediction\", ticklen=5,  gridwidth=2),)\n",
    "fig=go.Figure(data=data, layout=layout)\n",
    "plot(fig, show_link=False)"
   ]
  },
  {
   "cell_type": "code",
   "execution_count": null,
   "metadata": {},
   "outputs": [],
   "source": [
    "trace_bw=go.Scatter(x=df_bw.nuclei_n, y=df_bw.iou_score, mode='markers', marker=dict(size=12, line=dict(width=1), color=\"black\"),\n",
    "                    name=\"grayscale\", text=df_bw.description,)\n",
    "trace_col=go.Scatter(x=df_col.nuclei_n, y=df_col.iou_score, mode='markers', marker=dict(size=12, line=dict(width=1), color=\"red\"),\n",
    "                    name=\"color\", text=df_col.description,)\n",
    "data=[trace_bw, trace_col]\n",
    "layout=go.Layout(title=\"number of nuclei / image\", hovermode=\"closest\",\n",
    "                xaxis=dict(title=\"# truth\", ticklen=5, zeroline=False, gridwidth=2),\n",
    "                yaxis=dict(title=\"# prediction\", ticklen=5,  gridwidth=2),)\n",
    "fig=go.Figure(data=data, layout=layout)\n",
    "plot(fig, show_link=False)\n",
    "#1) the more nuclei the worse\n",
    "#2) color images are really bad"
   ]
  },
  {
   "cell_type": "code",
   "execution_count": null,
   "metadata": {},
   "outputs": [],
   "source": [
    "fig=tools.make_subplots(rows=1, cols=3, subplot_titles=('masked image','prediction','difference'))"
   ]
  },
  {
   "cell_type": "code",
   "execution_count": null,
   "metadata": {},
   "outputs": [],
   "source": [
    "id=0\n",
    "\n",
    "data=[dict(type='heatmap', z=val.masks[0],)]\n",
    "axis=dict(zeroline=False, showgrid=False, ticklen=4)\n",
    "layout=dict(width=val.features['x'], height=600,\n",
    "            font=dict(family='Balto', size=12),\n",
    "            xaxis= dict(axis),\n",
    "            yaxis= dict(axis),\n",
    "            title= \"mask\"\n",
    "            )\n",
    "fig1=dict(data=data, layout=layout)\n",
    "plot(fig1)"
   ]
  },
  {
   "cell_type": "code",
   "execution_count": null,
   "metadata": {},
   "outputs": [],
   "source": []
  },
  {
   "cell_type": "code",
   "execution_count": null,
   "metadata": {},
   "outputs": [],
   "source": []
  }
 ],
 "metadata": {
  "kernelspec": {
   "display_name": "Python 3",
   "language": "python",
   "name": "python3"
  }
 },
 "nbformat": 4,
 "nbformat_minor": 2
}
